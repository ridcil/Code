{
 "cells": [
  {
   "cell_type": "code",
   "execution_count": null,
   "metadata": {},
   "outputs": [],
   "source": [
    "import os\n",
    "import numpy as np\n",
    "import pandas as pd\n",
    "import matplotlib.pyplot as plt\n",
    "from pathlib import Path\n",
    "import statistics as sts\n",
    "from lmfit import Model\n",
    "from scipy.stats import sem"
   ]
  },
  {
   "cell_type": "code",
   "execution_count": null,
   "metadata": {},
   "outputs": [],
   "source": [
    "# Variables for names and files\n",
    "mask = 'IDEA2 '\n",
    "metal = 'Al'\n",
    "resist = 'LMO_IX'\n",
    "sample = '0G_11 '\n",
    "folder = 'C4_P08'\n",
    "name = mask + metal + ' on LMO ' + sample + folder\n",
    "file = folder + '.txt'\n",
    "path = os.path.join(Path.cwd().parent.parent, 'Contact Resistance', 'LSB_07', 'LCR', 'csv', mask + metal, resist)\n",
    "dir = os.listdir(path)\n",
    "\n",
    "# Get dictionary of data DC, Idc and Vds\n",
    "dict = {}\n",
    "for i in dir:\n",
    "    data = pd.read_csv(os.path.join(path,i))\n",
    "    dict[i] = (data['DC'], data['Idc'], data['Vds'])\n",
    "\n",
    "# Linear Fit\n",
    "def line(x, m, b):\n",
    "    return x * m + b\n",
    "gmodel = Model(line)\n",
    "param = gmodel.make_params()\n",
    "\n",
    "# Result of fit. Get resistance, inverse of slope. get r^2\n",
    "result = gmodel.fit(dict[file][1], param, m = 1, b = 1, x = dict[file][2])\n",
    "slope = result.values['m']\n",
    "resistance = 1/slope\n",
    "r_square = 1 - result.residual.var() / np.var(dict[file][1])\n",
    "\n",
    "# Plot\n",
    "fig, ax = plt.subplots(dpi = 400, facecolor = 'white')\n",
    "ax.set_title(name)\n",
    "ax.set_xlabel('Potential Vds (V)')\n",
    "ax.set_ylabel('Current Ids (A)')\n",
    "ax.scatter(dict[file][0], dict[file][1], s = 1, label = 'Measurement')\n",
    "\n",
    "\n",
    "# Fit line and extra info to add in the legend\n",
    "# ax.plot(dict[file][0], result.best_fit, 'k', alpha = 0.5, label = 'Linear Fit')\n",
    "# ax.plot([],[], ' ', label = '{:.2f}'.format(resistance) + ' $\\Omega$')\n",
    "# ax.plot([],[], ' ', label = 'r$^2$ = ' + '{:.5f}'.format(r_square))\n",
    "\n",
    "# To plot all files in folder\n",
    "# mark = ['.', 'v', 's', '*', 'x', 'D'] \n",
    "# dir.sort(reverse = True)\n",
    "# count = 1\n",
    "# for i in dir:\n",
    "    # res = gmodel.fit(dict[i][1], param, m = 1, b = 1, x = dict[i][2])\n",
    "    # ax.scatter(dict[i][2], dict[i][1], s = 5)#, label = i[:-4])\n",
    "    # ax.plot(dict[i][2], dict[i][1])#, label = i[:-4])\n",
    "    # ax.plot(dict[i][2], res.best_fit, 'k', alpha = 0.5, lw = 0.8)\n",
    "    \n",
    "ax.legend(markerscale = 5)\n",
    "\n",
    "#Save plot\n",
    "# plt.savefig(os.path.join(Path.cwd().parent.parent, 'Contact Resistance', 'LSB_07', 'LCR', 'Plots', mask + metal, 'IX', name) + '.png', facecolor = 'white',  bbox_inches='tight')\n"
   ]
  }
 ],
 "metadata": {
  "kernelspec": {
   "display_name": "Python 3.9.13 64-bit (microsoft store)",
   "language": "python",
   "name": "python3"
  },
  "language_info": {
   "name": "python",
   "version": "3.9.13"
  },
  "orig_nbformat": 4,
  "vscode": {
   "interpreter": {
    "hash": "07efca2f57058c8396287c06e71748f56c683db983d28c5eca359ebc2a15da43"
   }
  }
 },
 "nbformat": 4,
 "nbformat_minor": 2
}
