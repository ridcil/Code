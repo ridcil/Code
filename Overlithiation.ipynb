{
 "cells": [
  {
   "cell_type": "code",
   "execution_count": null,
   "metadata": {},
   "outputs": [],
   "source": [
    "import os\n",
    "import numpy as np\n",
    "import pandas as pd\n",
    "import matplotlib.pyplot as plt\n",
    "import seaborn as sns\n",
    "\n",
    "sns.set_style('ticks')"
   ]
  },
  {
   "cell_type": "code",
   "execution_count": null,
   "metadata": {},
   "outputs": [],
   "source": [
    "path = r'C:\\Users\\lopezb41\\OneDrive - imec\\Documents\\Experiments\\Data\\Electrochemical\\SCE_01\\GR_03' # Paste the location of the folder where the sample is inside r''\n",
    "sample = path[-5:]\n",
    "files = [os.path.join(path, i) for i in os.listdir(path)]\n",
    "col = ['Potential vs Li/Li$^+$ (V)', 'Current (A)', 'Current Density ($\\mu$A/cm$^2$)', 'Scan']\n",
    "rad = 1 # radius of the working electrode in cm\n",
    "area = np.pi * rad**2 # in cm^2\n",
    "\n",
    "df_cv = pd.read_csv(files[0], sep = ';', skiprows = 1, usecols=[0, 1, 2, 4], names = col, dtype='float64')\n",
    "df_cv[col[2]] = df_cv[col[1]] * 1e6 / area\n",
    "\n",
    "df_lith = pd.read_csv(files[1], sep = ';', skiprows = 1, usecols=[0, 1, 3], names = ['Time (s)', col[1], col[0]], dtype='float64')\n",
    "df_lith[col[2]] = df_lith[col[1]] * 1e6 / area\n",
    "\n",
    "# Plots\n",
    "fig, ax = plt.subplots(1,2, figsize = (15,5))\n",
    "plt.suptitle(sample)\n",
    "ax[0].set_ylim(-120, 120)\n",
    "\n",
    "ax2 = ax[1].twinx()\n",
    "ax2.set_ylim(2.44, 2.46)\n",
    "\n",
    "sns.scatterplot(data = df_cv, x = col[0], y = col[2], edgecolor = None, s = 5, ax = ax[0])\n",
    "sns.lineplot(data = df_lith, x = 'Time (s)', y = col[2], ax = ax[1], label = 'Current', lw = 3)\n",
    "sns.lineplot(data = df_lith, x = 'Time (s)', y = col[0],  ax = ax2, label = 'Potential', color = 'tab:orange')\n",
    "ax[0].grid()\n",
    "ax[1].grid()\n",
    "ax2.legend(loc = 4)\n"
   ]
  },
  {
   "attachments": {},
   "cell_type": "markdown",
   "metadata": {},
   "source": [
    "Code for samples prepared on april 2022"
   ]
  },
  {
   "cell_type": "code",
   "execution_count": null,
   "metadata": {},
   "outputs": [],
   "source": [
    "path = r'C:\\Users\\lopezb41\\OneDrive - imec\\Documents\\Experiments\\Data\\Electrochemical\\LSB_02\\Sample_1'\n",
    "files = [os.path.join(path, i) for i in os.listdir(path)]\n",
    "col = ['Potential vs Li/Li$^+$ (V)', 'Current (A)', 'Current Density ($\\mu$A/cm$^2$)', 'Scan']\n",
    "rad = 1 # radius of the working electrode in cm\n",
    "area = np.pi * rad**2 # in cm^2\n",
    "\n",
    "df_cv = pd.read_csv(files[0], sep = '\\t', skiprows = 1, usecols=[0, 1, 2, 5], names = col, dtype='float64')\n",
    "df_cv[col[2]] = df_cv[col[1]] * 1e6 / area\n",
    "\n",
    "df_lith = pd.read_csv(files[1], sep = '\\t', skiprows = 1, usecols=[0, 1, 3], names = ['Time (s)', col[1], col[0]], dtype='float64')\n",
    "df_lith[col[2]] = df_lith[col[1]] * 1e6 / area\n",
    "\n",
    "# Plots\n",
    "fig, ax = plt.subplots(1,2, figsize = (15,5))\n",
    "ax[0].set_ylim(-200, 160)\n",
    "\n",
    "ax2 = ax[1].twinx()\n",
    "ax2.set_ylim(2.44, 2.46)\n",
    "\n",
    "sns.scatterplot(data = df_cv, x = col[0], y = col[2], edgecolor = None, s = 5, ax = ax[0])\n",
    "sns.lineplot(data = df_lith, x = 'Time (s)', y = col[2], ax = ax[1], label = 'Current', lw = 3)\n",
    "sns.lineplot(data = df_lith, x = 'Time (s)', y = col[0],  ax = ax2, label = 'Potential', color = 'tab:orange')\n",
    "ax[0].grid()\n",
    "ax[1].grid()\n",
    "ax2.legend(loc = 4)"
   ]
  }
 ],
 "metadata": {
  "kernelspec": {
   "display_name": "Python 3",
   "language": "python",
   "name": "python3"
  },
  "language_info": {
   "codemirror_mode": {
    "name": "ipython",
    "version": 3
   },
   "file_extension": ".py",
   "mimetype": "text/x-python",
   "name": "python",
   "nbconvert_exporter": "python",
   "pygments_lexer": "ipython3",
   "version": "3.11.1"
  },
  "orig_nbformat": 4
 },
 "nbformat": 4,
 "nbformat_minor": 2
}
