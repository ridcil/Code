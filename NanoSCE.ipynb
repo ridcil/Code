{
 "cells": [
  {
   "cell_type": "code",
   "execution_count": null,
   "metadata": {},
   "outputs": [],
   "source": [
    "import os\n",
    "import numpy as np\n",
    "import pandas as pd\n",
    "import matplotlib.pyplot as plt\n",
    "from lmfit import Model\n",
    "from scipy.stats import linregress\n",
    "import seaborn as sns\n",
    "from pathlib import Path\n",
    "\n",
    "from matplotlib.ticker import MaxNLocator\n",
    "\n",
    "from nanosce_cv_cc import Ec"
   ]
  },
  {
   "cell_type": "code",
   "execution_count": null,
   "metadata": {},
   "outputs": [],
   "source": [
    "path_ref = r'C:\\Users\\lopezb41\\OneDrive - imec\\Documents\\Experiments\\Data\\Electrochemical\\SCE_01\\SCE Tio2\\TiO2ref'\n",
    "path = r'C:\\Users\\lopezb41\\OneDrive - imec\\Documents\\Experiments\\nanoSCE on LMO\\nanoSCE prec 7\\20230323_LMO_SCE\\Sample 11 TiO2\\CV2 over weekend cycling'\n",
    "# files = [os.path.join(path, i) for i in os.listdir(path)]\n",
    "df_cv_ref, capacity = Ec.Electrochem(path_ref, 40, 0.63)\n",
    "# df_cv = Ec.Electrochem(path, 40, 0.12566)\n"
   ]
  },
  {
   "cell_type": "code",
   "execution_count": null,
   "metadata": {},
   "outputs": [],
   "source": [
    "print(capacity)"
   ]
  },
  {
   "cell_type": "code",
   "execution_count": null,
   "metadata": {},
   "outputs": [],
   "source": [
    "# df_cv_ref['Sample'] = 'Wet Cell'\n",
    "# df_cv['Sample'] = 'Solid electrolyte'\n",
    "\n",
    "# df = pd.concat([df_cv_ref, df_cv])\n",
    "\n",
    "# fig, ax = plt.subplots(dpi = 200)\n",
    "# sns.scatterplot(data = df, x = 'Potential vs Li$^+$/Li (V)', y = 'Current Density ($\\mu$A/cm$^2$)', hue = 'Sample', edgecolor = None, s = 5 )\n",
    "# plt.title('TiO$_2$')"
   ]
  },
  {
   "cell_type": "code",
   "execution_count": null,
   "metadata": {},
   "outputs": [],
   "source": [
    "# path = r'C:\\Users\\lopezb41\\OneDrive - imec\\Documents\\Experiments\\nanoSCE on LMO\\nanoSCE prec 7\\20230323_LMO_SCE\\Sample 20 LMO OL 100s dep\\CV 8 charge discharge set'\n",
    "# df_cv = Ec.Electrochem(path, 80, 0.12566)"
   ]
  },
  {
   "cell_type": "code",
   "execution_count": null,
   "metadata": {},
   "outputs": [],
   "source": [
    "# fig, ax = plt.subplots(dpi = 200)\n",
    "# sns.scatterplot(data = df_cv, x = 'Potential vs Li$^+$/Li (V)', y = 'Current Density ($\\mu$A/cm$^2$)', hue = 'CV', edgecolor = None, s = 5 )\n",
    "# # plt.title('LMO')\n",
    "# df_cv"
   ]
  },
  {
   "cell_type": "code",
   "execution_count": null,
   "metadata": {},
   "outputs": [],
   "source": [
    "# palette = 'Blues'\n",
    "# dpi = 200\n",
    "# lith = pd.DataFrame()\n",
    "# cols = ['Potential vs Li$^+$/Li (V)', 'Current (A)', 'Current Density ($\\mu$A/cm$^2$)', 'Scan']\n",
    "# cols2 = ['Time (s)', cols[0], 'Current (A)', 'Charge (C)', 'Capacity (mAh cm$^{-3}$)']\n",
    "# _cap = 'Capacity (mAh/cm$^3$)'\n",
    "# area = 0.12566\n",
    "# thickness = 80\n",
    "\n",
    "\n",
    "# lith_path = r'C:\\Users\\lopezb41\\OneDrive - imec\\Documents\\Experiments\\nanoSCE on LMO\\nanoSCE prec 7\\20230323_LMO_SCE\\Sample 20 LMO OL 100s dep\\CV 8 charge discharge set\\lith'\n",
    "# lith_files = [os.path.join(lith_path, j) for j in os.listdir(lith_path)]\n",
    "# print(lith_files)\n",
    "# Z = [[0,0],[0,0]]\n",
    "# cbar = plt.contourf(Z, levels = np.arange(0, len(lith_files) + 1, 1), cmap=palette)\n",
    "# plt.clf()\n",
    "# n = 0\n",
    "# capacity = pd.DataFrame(columns = [_cap, 'Cycle', 'Sample'])\n",
    "# final_file = pd.DataFrame()\n",
    "# for x in lith_files:\n",
    "#     l = pd.read_csv(x, sep = ';', names = cols2, usecols=[1,2,3,4,5], skiprows = 1)\n",
    "#     l['Cycle'] = int(x[-6:-4])\n",
    "#     lith = pd.concat([lith, l], ignore_index = True)\n",
    "#     capacity.loc[n] = [-1 * min(l[cols2[3]]) /3.6 / (area * 1e-7 * thickness), int(x[-6:-4]), path[-5:]] # capacity equation. capacity = charge / 3.6 / area * thickness (cm)\n",
    "#     final_file = pd.concat([final_file, capacity])\n",
    "#     n += 1\n",
    "# lith[_cap] = -1 * lith[cols2[3]] /3.6 / (area * 1e-7 * thickness)\n",
    "# fig, ax = plt.subplots(facecolor = 'white', dpi = dpi)\n",
    "# sns.lineplot(data = lith, x = _cap, y = cols2[1], hue = 'Cycle', palette=palette, legend = True)\n",
    "# plt.title('LMO with NanoSCE')\n",
    "# #\n",
    "# # sns.lineplot(data = delith, x = _cap, y = cols2[1], hue = 'Cycle', palette=palette, legend = False, ax = ax[0], lw = linewidth)"
   ]
  },
  {
   "cell_type": "code",
   "execution_count": null,
   "metadata": {},
   "outputs": [],
   "source": [
    "# F = 96485.3321\n",
    "# def capacity(n, m_w, density):\n",
    "#     return n * F / (3600 * m_w) * density\n",
    "    \n",
    "# a = 6.63e-8 / 0.12566\n",
    "# r = np.pi * 0.2**2\n",
    "\n",
    "# # print(capacity(0.5, 79.866, 4.23)*3600)\n",
    "\n",
    "# area = 0.12566\n",
    "# # area = 0.63\n",
    "# thickness = 40\n",
    "# charge = capacity(0.5, 79.866, 4.23)*3600*area*thickness * 1e-7\n",
    "# prefact_tio2 = capacity(0.5, 79.866, 4.23) * 3600\n",
    "# print(charge)\n",
    "# current_1C = charge/3600\n",
    "# print(current_1C)\n",
    "# # print(prefact_tio2)\n",
    "# # print(2555)"
   ]
  }
 ],
 "metadata": {
  "kernelspec": {
   "display_name": "Python 3",
   "language": "python",
   "name": "python3"
  },
  "language_info": {
   "codemirror_mode": {
    "name": "ipython",
    "version": 3
   },
   "file_extension": ".py",
   "mimetype": "text/x-python",
   "name": "python",
   "nbconvert_exporter": "python",
   "pygments_lexer": "ipython3",
   "version": "3.11.1"
  },
  "orig_nbformat": 4,
  "vscode": {
   "interpreter": {
    "hash": "74b955679ae62e8a1bbc259be985f1f65e0492ed4bafc6ff6388a79af7be0082"
   }
  }
 },
 "nbformat": 4,
 "nbformat_minor": 2
}
