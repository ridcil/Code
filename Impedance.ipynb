{
 "cells": [
  {
   "cell_type": "code",
   "execution_count": 2,
   "metadata": {},
   "outputs": [],
   "source": [
    "import os\n",
    "import numpy as np\n",
    "import matplotlib.pyplot as plt\n",
    "import seaborn as sns\n",
    "import pandas as pd\n"
   ]
  },
  {
   "cell_type": "code",
   "execution_count": 6,
   "metadata": {},
   "outputs": [
    {
     "name": "stderr",
     "output_type": "stream",
     "text": [
      "C:\\Users\\lopezb41\\AppData\\Local\\Temp\\ipykernel_19208\\772414751.py:6: FutureWarning: Defining usecols with out of bounds indices is deprecated and will raise a ParserError in a future version.\n",
      "  df = pd.read_csv(path, names = col, skiprows = 3, sep = '\\t', usecols = list(range(13, 26)))\n"
     ]
    },
    {
     "data": {
      "text/html": [
       "<div>\n",
       "<style scoped>\n",
       "    .dataframe tbody tr th:only-of-type {\n",
       "        vertical-align: middle;\n",
       "    }\n",
       "\n",
       "    .dataframe tbody tr th {\n",
       "        vertical-align: top;\n",
       "    }\n",
       "\n",
       "    .dataframe thead th {\n",
       "        text-align: right;\n",
       "    }\n",
       "</style>\n",
       "<table border=\"1\" class=\"dataframe\">\n",
       "  <thead>\n",
       "    <tr style=\"text-align: right;\">\n",
       "      <th></th>\n",
       "      <th>Resistance 1: value</th>\n",
       "      <th>Resistance 1: absolute error</th>\n",
       "      <th>Resistance 1: relative error</th>\n",
       "      <th>Resistance 2: value</th>\n",
       "      <th>Resistance 2: absolute error</th>\n",
       "      <th>Resistance 2: relative error</th>\n",
       "      <th>CPE Q 1: value</th>\n",
       "      <th>CPE Q 1: absolute error</th>\n",
       "      <th>CPE Q 1: relative error</th>\n",
       "      <th>CPE Alpha 1: value</th>\n",
       "      <th>CPE Alpha 1: absolute error</th>\n",
       "      <th>CPE Alpha 1: relative error</th>\n",
       "      <th>Datasource</th>\n",
       "    </tr>\n",
       "  </thead>\n",
       "  <tbody>\n",
       "    <tr>\n",
       "      <th>0</th>\n",
       "      <td>1.826024e+06</td>\n",
       "      <td>3.455568e+03</td>\n",
       "      <td>0.189240</td>\n",
       "      <td>1.855330e-10</td>\n",
       "      <td>2.524311e-12</td>\n",
       "      <td>1.360573</td>\n",
       "      <td>0.925633</td>\n",
       "      <td>0.001515</td>\n",
       "      <td>0.163709</td>\n",
       "      <td>C4_P01.txt_1</td>\n",
       "      <td>NaN</td>\n",
       "      <td>NaN</td>\n",
       "      <td>NaN</td>\n",
       "    </tr>\n",
       "    <tr>\n",
       "      <th>1</th>\n",
       "      <td>2.367316e+07</td>\n",
       "      <td>2.405050e+06</td>\n",
       "      <td>10.159396</td>\n",
       "      <td>3.604787e-10</td>\n",
       "      <td>5.605779e-11</td>\n",
       "      <td>15.550931</td>\n",
       "      <td>0.840871</td>\n",
       "      <td>0.020671</td>\n",
       "      <td>2.458266</td>\n",
       "      <td>C4_P04.txt_1</td>\n",
       "      <td>NaN</td>\n",
       "      <td>NaN</td>\n",
       "      <td>NaN</td>\n",
       "    </tr>\n",
       "    <tr>\n",
       "      <th>2</th>\n",
       "      <td>7.042196e+06</td>\n",
       "      <td>5.126822e+04</td>\n",
       "      <td>0.728015</td>\n",
       "      <td>8.456376e-11</td>\n",
       "      <td>2.545293e-12</td>\n",
       "      <td>3.009910</td>\n",
       "      <td>0.979991</td>\n",
       "      <td>0.003714</td>\n",
       "      <td>0.378983</td>\n",
       "      <td>C4_P03.txt_1</td>\n",
       "      <td>NaN</td>\n",
       "      <td>NaN</td>\n",
       "      <td>NaN</td>\n",
       "    </tr>\n",
       "    <tr>\n",
       "      <th>3</th>\n",
       "      <td>3.774980e+06</td>\n",
       "      <td>7.258841e+03</td>\n",
       "      <td>0.192288</td>\n",
       "      <td>1.059798e-10</td>\n",
       "      <td>1.147263e-12</td>\n",
       "      <td>1.082530</td>\n",
       "      <td>0.967051</td>\n",
       "      <td>0.001280</td>\n",
       "      <td>0.132339</td>\n",
       "      <td>C4_P02.txt_1</td>\n",
       "      <td>NaN</td>\n",
       "      <td>NaN</td>\n",
       "      <td>NaN</td>\n",
       "    </tr>\n",
       "  </tbody>\n",
       "</table>\n",
       "</div>"
      ],
      "text/plain": [
       "   Resistance 1: value  Resistance 1: absolute error  \\\n",
       "0         1.826024e+06                  3.455568e+03   \n",
       "1         2.367316e+07                  2.405050e+06   \n",
       "2         7.042196e+06                  5.126822e+04   \n",
       "3         3.774980e+06                  7.258841e+03   \n",
       "\n",
       "   Resistance 1: relative error  Resistance 2: value  \\\n",
       "0                      0.189240         1.855330e-10   \n",
       "1                     10.159396         3.604787e-10   \n",
       "2                      0.728015         8.456376e-11   \n",
       "3                      0.192288         1.059798e-10   \n",
       "\n",
       "   Resistance 2: absolute error  Resistance 2: relative error  CPE Q 1: value  \\\n",
       "0                  2.524311e-12                      1.360573        0.925633   \n",
       "1                  5.605779e-11                     15.550931        0.840871   \n",
       "2                  2.545293e-12                      3.009910        0.979991   \n",
       "3                  1.147263e-12                      1.082530        0.967051   \n",
       "\n",
       "   CPE Q 1: absolute error  CPE Q 1: relative error CPE Alpha 1: value  \\\n",
       "0                 0.001515                 0.163709       C4_P01.txt_1   \n",
       "1                 0.020671                 2.458266       C4_P04.txt_1   \n",
       "2                 0.003714                 0.378983       C4_P03.txt_1   \n",
       "3                 0.001280                 0.132339       C4_P02.txt_1   \n",
       "\n",
       "  CPE Alpha 1: absolute error CPE Alpha 1: relative error Datasource  \n",
       "0                         NaN                         NaN        NaN  \n",
       "1                         NaN                         NaN        NaN  \n",
       "2                         NaN                         NaN        NaN  \n",
       "3                         NaN                         NaN        NaN  "
      ]
     },
     "execution_count": 6,
     "metadata": {},
     "output_type": "execute_result"
    }
   ],
   "source": [
    "# path = r'C:\\Users\\lopezb41\\OneDrive - imec\\Documents\\Experiments\\Data\\Contact Resistance\\Impedance\\C4_P01\\impedance\\Relaxis_Fit'\n",
    "path = r'C:\\Users\\lopezb41\\OneDrive - imec\\Documents\\Experiments\\Data\\Contact Resistance\\LSB_07\\0G_21\\LCR\\params.txt'\n",
    "col = ['Resistance 1: value',\t'Resistance 1: absolute error',\t'Resistance 1: relative error',\t'Resistance 2: value',\t'Resistance 2: absolute error',\t'Resistance 2: relative error',\t'CPE Q 1: value',\t'CPE Q 1: absolute error',\t'CPE Q 1: relative error',\t'CPE Alpha 1: value',\t'CPE Alpha 1: absolute error',\t'CPE Alpha 1: relative error',\t'Datasource']\n",
    "# relaxis_files = [os.path.join(path, i) for i in os.listdir(path)]\n",
    "\n",
    "df = pd.read_csv(path, names = col, skiprows = 3, sep = '\\t', usecols = list(range(13, 26)))\n",
    "# fig, ax = plt.subplots(dpi = 100)\n",
    "# sns.scatterplot(data = df, y = col[3], x = col[12], ax = ax)\n",
    "# ax.tick_params(axis='x', rotation=90)\n",
    "# plt.xticks(rotation=‌​90)\n",
    "df\n",
    "# print(list(range(13,20)))"
   ]
  },
  {
   "cell_type": "code",
   "execution_count": 4,
   "metadata": {},
   "outputs": [
    {
     "data": {
      "text/plain": [
       "<AxesSubplot: xlabel=\"Z'\", ylabel=\"Z''\">"
      ]
     },
     "execution_count": 4,
     "metadata": {},
     "output_type": "execute_result"
    },
    {
     "data": {
      "image/png": "[encoded data removed]",
      "text/plain": [
       "<Figure size 640x480 with 1 Axes>"
      ]
     },
     "metadata": {},
     "output_type": "display_data"
    }
   ],
   "source": [
    "col = [\"Frequency\", \"Z'\", \"Z''\", \"Fit Frequency\", \"Fit Z'\", \"Fit Z''\" ]\n",
    "fig, ax = plt.subplots(dpi = 100)\n",
    "# for i in relaxis_files:\n",
    "#     if 'test' in i:\n",
    "#         df = pd.read_csv(i, skiprows = 4, sep = '\\t', names = col)\n",
    "#         sns.scatterplot(data = df, x = col[1], y = col[2])\n",
    "#         sns.lineplot(data = df, x = col[4], y = col[5])\n",
    "\n",
    "df = pd.read_csv(relaxis_files[1], skiprows = 4, sep = '\\t', names = col)\n",
    "sns.scatterplot(data = df, x = col[1], y = col[2])\n",
    "sns.lineplot(data = df, x = col[4], y = col[5])"
   ]
  }
 ],
 "metadata": {
  "kernelspec": {
   "display_name": "Python 3",
   "language": "python",
   "name": "python3"
  },
  "language_info": {
   "codemirror_mode": {
    "name": "ipython",
    "version": 3
   },
   "file_extension": ".py",
   "mimetype": "text/x-python",
   "name": "python",
   "nbconvert_exporter": "python",
   "pygments_lexer": "ipython3",
   "version": "3.11.1 (tags/v3.11.1:a7a450f, Dec  6 2022, 19:58:39) [MSC v.1934 64 bit (AMD64)]"
  },
  "orig_nbformat": 4,
  "vscode": {
   "interpreter": {
    "hash": "8a5edab282632443219e051e4ade2d1d5bbc671c781051bf1437897cbdfea0f1"
   }
  }
 },
 "nbformat": 4,
 "nbformat_minor": 2
}
