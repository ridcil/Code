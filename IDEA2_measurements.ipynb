{
 "cells": [
  {
   "cell_type": "code",
   "execution_count": 6,
   "metadata": {},
   "outputs": [],
   "source": [
    "import os\n",
    "import numpy as np\n",
    "import pandas as pd\n",
    "import matplotlib.pyplot as plt\n",
    "import seaborn as sns\n",
    "from lmfit import Model\n",
    "\n",
    "from scipy.stats import linregress"
   ]
  },
  {
   "cell_type": "code",
   "execution_count": 7,
   "metadata": {},
   "outputs": [],
   "source": [
    "# MODEL\n",
    "def r_t(s, r_s, l_t, N, W, L):\n",
    "    return (r_s * s / (N * W + (N-1) * (2 *s + L))) + (2 * r_s * l_t / (N * W + (N-1) * (2 *s + L)))\n",
    "\n",
    "#Create model and parameters\n",
    "gmodel5 = Model(r_t)\n",
    "param5 = gmodel5.make_params()\n",
    "param5['r_s'].set(value = 1e10, min = 0)\n",
    "param5['l_t'].set(value = 1, min = 0)\n",
    "param5['L'].set(value = 3200e-4, vary = False)\n",
    "param5['W'].set(value = 5e-4, vary = False)\n",
    "param5['N'].set(value = 60, vary = False)"
   ]
  },
  {
   "cell_type": "code",
   "execution_count": 8,
   "metadata": {},
   "outputs": [],
   "source": [
    "def total_resistance(s, sigma, thickness, n, w, l, intercept):\n",
    "    return s / (sigma * thickness * ( 2* n * (w + l + s) - l - s)) + intercept\n",
    "\n",
    "gmodel = Model(total_resistance)\n",
    "param = gmodel.make_params()\n",
    "param['sigma'].set(value = 1e-6, min = 0)\n",
    "param['intercept'].set(value = 1000, min = 0)\n",
    "param['l'].set(value = 3200e-4, vary = False)\n",
    "param['w'].set(value = 5e-4, vary = False)\n",
    "param['n'].set(value = 60, vary = False)\n",
    "param['thickness'].set(value = 80e-7, vary = False)\n",
    "\n",
    "# def data():\n",
    "    "
   ]
  },
  {
   "cell_type": "code",
   "execution_count": 16,
   "metadata": {},
   "outputs": [
    {
     "name": "stderr",
     "output_type": "stream",
     "text": [
      "C:\\Users\\lopezb41\\AppData\\Local\\Temp\\ipykernel_1484\\1192352353.py:37: RuntimeWarning: divide by zero encountered in scalar divide\n",
      "  df['Weight'] = 1 / std ** 2\n",
      "C:\\Users\\lopezb41\\AppData\\Local\\Temp\\ipykernel_1484\\1192352353.py:37: RuntimeWarning: divide by zero encountered in scalar divide\n",
      "  df['Weight'] = 1 / std ** 2\n",
      "C:\\Users\\lopezb41\\AppData\\Local\\Temp\\ipykernel_1484\\1192352353.py:37: RuntimeWarning: divide by zero encountered in scalar divide\n",
      "  df['Weight'] = 1 / std ** 2\n",
      "C:\\Users\\lopezb41\\AppData\\Local\\Temp\\ipykernel_1484\\1192352353.py:37: RuntimeWarning: divide by zero encountered in scalar divide\n",
      "  df['Weight'] = 1 / std ** 2\n"
     ]
    },
    {
     "name": "stdout",
     "output_type": "stream",
     "text": [
      "[[Model]]\n",
      "    Model(total_resistance)\n",
      "[[Fit Statistics]]\n",
      "    # fitting method   = leastsq\n",
      "    # function evals   = 6000\n",
      "    # data points      = 4\n",
      "    # variables        = 2\n",
      "    chi-square         = 6.7973e+11\n",
      "    reduced chi-square = 3.3986e+11\n",
      "    Akaike info crit   = 107.434642\n",
      "    Bayesian info crit = 106.207231\n",
      "    R-squared          = 0.96108326\n",
      "##  Warning: uncertainties could not be estimated:\n",
      "[[Variables]]\n",
      "    sigma:      1.0752e-06 (init = 1e-06)\n",
      "    thickness:  8e-06 (fixed)\n",
      "    n:          60 (fixed)\n",
      "    w:          0.0005 (fixed)\n",
      "    l:          0.32 (fixed)\n",
      "    intercept:  1.37888701 (init = 1000)\n",
      "1.3788870099195303\n"
     ]
    },
    {
     "data": {
      "text/plain": [
       "[<matplotlib.lines.Line2D at 0x2b8b07955d0>]"
      ]
     },
     "execution_count": 16,
     "metadata": {},
     "output_type": "execute_result"
    },
    {
     "data": {
      "image/png": "[encoded data removed]",
      "text/plain": [
       "<Figure size 640x480 with 1 Axes>"
      ]
     },
     "metadata": {},
     "output_type": "display_data"
    }
   ],
   "source": [
    "path = r'C:\\Users\\lopezb41\\OneDrive - imec\\Documents\\Experiments\\Data\\Contact Resistance\\LSB_07\\0G_34'\n",
    "\n",
    "col = ['Potential (V)', 'Current (A)', 'Time (s)']\n",
    "col_r = ['Spacing (cm)', 'Resistance ($\\Omega$)', 'Column']\n",
    "i_v = pd.DataFrame()\n",
    "r = pd.DataFrame(columns = col_r)\n",
    "files = [os.path.join(path, i) for i in os.listdir(path)]\n",
    "n = 0\n",
    "for i in files:\n",
    "    df = pd.read_csv(i, sep = ';', names = col, skiprows = 1)\n",
    "    slope, intercept, rvalue, pvalue, stderr = linregress(df[col[0]], df[col[1]])\n",
    "    df['Fit'] = df[col[0]] * slope + intercept\n",
    "    if i[-5:-4] == '1':\n",
    "        df[col_r[0]] = 2e-4\n",
    "        r.loc[n] = [2e-4, 1/slope, i[-10:-8]]\n",
    "    elif i[-5:-4] == '2':\n",
    "        df[col_r[0]] = 5e-4\n",
    "        r.loc[n] = [5e-4, 1/slope, i[-10:-8]]\n",
    "    elif i[-5:-4] == '3':\n",
    "        df[col_r[0]] = 10e-4\n",
    "        r.loc[n] = [10e-4, 1/slope, i[-10:-8]]\n",
    "    elif i[-5:-4] == '4':\n",
    "        df[col_r[0]] = 20e-4\n",
    "        r.loc[n] = [20e-4, 1/slope, i[-10:-8]]\n",
    "    df['Column'] = i[-10:-8]\n",
    "    i_v = pd.concat([i_v, df], ignore_index=True)\n",
    "    n += 1\n",
    "    \n",
    "# Weight by 1/std**2\n",
    "spac = [2e-4, 5e-4, 10e-4, 20e-4]\n",
    "average_df = pd.DataFrame()\n",
    "weights = pd.DataFrame()\n",
    "for i in spac:\n",
    "    df = r[r[col_r[0]] == i].mean(numeric_only=True)\n",
    "    df2 = r[r[col_r[0]] == i].copy()\n",
    "    std = np.std(df2[col_r[1]])\n",
    "    df['Weight'] = 1 / std ** 2\n",
    "    # print(len(df2))\n",
    "    # df2['Weight'] = 1 / std ** 2\n",
    "    average_df = pd.concat([average_df, df], axis=1)\n",
    "    weights = pd.concat([weights, df2], ignore_index=True)\n",
    "average_df = average_df.T.reset_index(drop = True)\n",
    "\n",
    "average_df \n",
    "result = gmodel.fit(average_df[col_r[1]], param, s = r[col_r[0]], fit_kws={\"ftol\":1e-22, \"xtol\":1e-22, \"gtol\":1e-22})\n",
    "print(result.fit_report())\n",
    "print(result.eval(result.params, s = 0))\n",
    "\n",
    "sns.scatterplot(data = average_df, x = col_r[0], y = col_r[1])\n",
    "plt.plot(average_df[col_r[0]], result.best_fit)\n",
    "# result_all = gmodel5.fit(average_df[col_r[1]], param5, s = average_df[col_r[0]], fit_kws={\"ftol\":1e-22, \"xtol\":1e-22, \"gtol\":1e-22}, weights = average_df['Weight'])\n",
    "# rc2_all = gmodel5.eval(result_all.params, s = 0)\n",
    "# rs_all = result_all.values['r_s']\n",
    "# rs_err = result_all.params['r_s'].stderr\n",
    "# sigma_all = 1/  (rs_all * thickness * 1e-7)\n",
    "# # sigma_err = 1/  (rs_err * thickness * 1e-7)\n",
    "# average_df['Fit'] = result_all.best_fit\n",
    "# average_df['Sample'] = sample        \n",
    "# values.loc[0] = [rs_all, rc2_all / 2, sigma_all, sample]\n",
    "\n",
    "        \n",
    "# sns.scatterplot(data = i_v, x = col[0], y = col[1], hue = col_r[0])\n",
    "# sns.lineplot(data = i_v, x = col[0], y = 'Fit', hue = col_r[0])\n"
   ]
  },
  {
   "cell_type": "code",
   "execution_count": 10,
   "metadata": {},
   "outputs": [
    {
     "ename": "IndentationError",
     "evalue": "unexpected indent (498064153.py, line 2)",
     "output_type": "error",
     "traceback": [
      "\u001b[1;36m  Cell \u001b[1;32mIn[10], line 2\u001b[1;36m\u001b[0m\n\u001b[1;33m    Model(total_resistance)\u001b[0m\n\u001b[1;37m    ^\u001b[0m\n\u001b[1;31mIndentationError\u001b[0m\u001b[1;31m:\u001b[0m unexpected indent\n"
     ]
    }
   ],
   "source": [
    "[[Model]]\n",
    "    Model(total_resistance)\n",
    "[[Fit Statistics]]\n",
    "    # fitting method   = leastsq\n",
    "    # function evals   = 114\n",
    "    # data points      = 7\n",
    "    # variables        = 2\n",
    "    chi-square         = 3.6615e+10\n",
    "    reduced chi-square = 7.3230e+09\n",
    "    Akaike info crit   = 160.644735\n",
    "    Bayesian info crit = 160.536555\n",
    "    R-squared          = 0.99735428\n",
    "##  Warning: uncertainties could not be estimated:\n",
    "[[Variables]]\n",
    "    sigma:      1.4158e-06 (init = 1e-06)\n",
    "    thickness:  8e-06 (fixed)\n",
    "    n:          60 (fixed)\n",
    "    w:          0.0005 (fixed)\n",
    "    l:          0.32 (fixed)\n",
    "    intercept:  1.0221e-04 (init = 1)"
   ]
  }
 ],
 "metadata": {
  "kernelspec": {
   "display_name": "Python 3",
   "language": "python",
   "name": "python3"
  },
  "language_info": {
   "codemirror_mode": {
    "name": "ipython",
    "version": 3
   },
   "file_extension": ".py",
   "mimetype": "text/x-python",
   "name": "python",
   "nbconvert_exporter": "python",
   "pygments_lexer": "ipython3",
   "version": "3.11.1"
  },
  "orig_nbformat": 4
 },
 "nbformat": 4,
 "nbformat_minor": 2
}
