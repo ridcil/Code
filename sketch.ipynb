{
 "cells": [
  {
   "cell_type": "code",
   "execution_count": 47,
   "metadata": {},
   "outputs": [],
   "source": [
    "import tkinter as tk\n",
    "from tkinter import filedialog as fd\n",
    "from matplotlib.backends.backend_tkagg import FigureCanvasTkAgg\n",
    "from matplotlib.figure import Figure\n",
    "import matplotlib.pyplot as plt\n",
    "import numpy as np\n",
    "import pandas as pd\n",
    "from datetime import datetime\n",
    "import seaborn as sns\n",
    "import os"
   ]
  },
  {
   "cell_type": "code",
   "execution_count": 83,
   "metadata": {},
   "outputs": [],
   "source": [
    "def eis(path, potentials):\n",
    "    \n",
    "    names = ['Potential vs Li/Li$^+$']\n",
    "    col = [\"Frequency (Hz)\", \"Z'\", \"-Z''\", \"Fit Frequency (Hz)\", \"Fit Z'\", \"Fit -Z''\" ]\n",
    "    \n",
    "    files = [os.path.join(path, i) for i in os.listdir(path)]\n",
    "    eis_data = pd.DataFrame()\n",
    "    spectra = pd.DataFrame()\n",
    "\n",
    "    n = 1 #Run\n",
    "    k = 1 #Run for spectra\n",
    "    for i in files:\n",
    "        m = 1 #potential\n",
    "       \n",
    "        for j in os.listdir(i):\n",
    "            \n",
    "            if 'Fit' in j:\n",
    "                fit_path = os.path.join(i, j)\n",
    "                df = pd.read_csv(fit_path, sep = '\\t', skiprows = 2)\n",
    "                df = df.rename(columns={'FreeVariable' : names[0], \n",
    "                                        'Resistance 1: value' : 'Electrolyte Resistance ($\\Omega$)', \n",
    "                                        'Resistance 2: value' : 'Charge transfer Resistance ($\\Omega$)' })\n",
    "                df['Run'] = n\n",
    "                eis_data = pd.concat([eis_data, df])\n",
    "                n += 1\n",
    "                \n",
    "            if 'Spectra' in j:\n",
    "                spectra_path = os.path.join(i, j)\n",
    "                df_s = pd.read_csv(spectra_path, skiprows=4, sep = '\\t', names=col)\n",
    "\n",
    "                df_s[col[2]] = -df_s[col[2]]\n",
    "                df_s[col[5]] = -df_s[col[5]]\n",
    "                df_s[names[0]] = potentials[m - 1]\n",
    "                df_s['Run'] = k\n",
    "                spectra = pd.concat([spectra, df_s])\n",
    "                m += 1\n",
    "        k += 1\n",
    "    return eis_data, spectra\n",
    "\n"
   ]
  },
  {
   "cell_type": "code",
   "execution_count": 71,
   "metadata": {},
   "outputs": [
    {
     "name": "stdout",
     "output_type": "stream",
     "text": [
      "LMO\n"
     ]
    }
   ],
   "source": []
  },
  {
   "cell_type": "code",
   "execution_count": null,
   "metadata": {},
   "outputs": [],
   "source": []
  }
 ],
 "metadata": {
  "kernelspec": {
   "display_name": "Python 3",
   "language": "python",
   "name": "python3"
  },
  "language_info": {
   "codemirror_mode": {
    "name": "ipython",
    "version": 3
   },
   "file_extension": ".py",
   "mimetype": "text/x-python",
   "name": "python",
   "nbconvert_exporter": "python",
   "pygments_lexer": "ipython3",
   "version": "3.11.1"
  },
  "orig_nbformat": 4
 },
 "nbformat": 4,
 "nbformat_minor": 2
}
