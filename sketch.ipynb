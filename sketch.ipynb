{
 "cells": [
  {
   "cell_type": "code",
   "execution_count": 1,
   "metadata": {},
   "outputs": [],
   "source": [
    "import tkinter as tk\n",
    "from tkinter import filedialog as fd\n",
    "from matplotlib.backends.backend_tkagg import FigureCanvasTkAgg\n",
    "from matplotlib.figure import Figure\n",
    "import matplotlib.pyplot as plt\n",
    "import numpy as np\n",
    "import pandas as pd\n",
    "from datetime import datetime\n",
    "import seaborn as sns\n",
    "import os\n",
    "\n",
    "# import import_ipynb\n",
    "# %run LESK32.ipynb"
   ]
  },
  {
   "cell_type": "code",
   "execution_count": 62,
   "metadata": {},
   "outputs": [
    {
     "data": {
      "text/plain": [
       "['C:\\\\Users\\\\lopezb41\\\\OneDrive - imec\\\\Documents\\\\Experiments\\\\Data\\\\Electrochemical\\\\L22\\\\L22_TiO2_90\\\\1C\\\\lith\\\\L22_TiO2_90_1C_lith_1C_01.txt',\n",
       " 'C:\\\\Users\\\\lopezb41\\\\OneDrive - imec\\\\Documents\\\\Experiments\\\\Data\\\\Electrochemical\\\\L22\\\\L22_TiO2_90\\\\1C\\\\lith\\\\L22_TiO2_90_1C_lith_1C_02.txt',\n",
       " 'C:\\\\Users\\\\lopezb41\\\\OneDrive - imec\\\\Documents\\\\Experiments\\\\Data\\\\Electrochemical\\\\L22\\\\L22_TiO2_90\\\\1C\\\\lith\\\\L22_TiO2_90_1C_lith_1C_03.txt',\n",
       " 'C:\\\\Users\\\\lopezb41\\\\OneDrive - imec\\\\Documents\\\\Experiments\\\\Data\\\\Electrochemical\\\\L22\\\\L22_TiO2_90\\\\1C\\\\lith\\\\L22_TiO2_90_1C_lith_1C_04.txt',\n",
       " 'C:\\\\Users\\\\lopezb41\\\\OneDrive - imec\\\\Documents\\\\Experiments\\\\Data\\\\Electrochemical\\\\L22\\\\L22_TiO2_90\\\\1C\\\\lith\\\\L22_TiO2_90_1C_lith_1C_05.txt',\n",
       " 'C:\\\\Users\\\\lopezb41\\\\OneDrive - imec\\\\Documents\\\\Experiments\\\\Data\\\\Electrochemical\\\\L22\\\\L22_TiO2_90\\\\1C\\\\lith\\\\L22_TiO2_90_1C_lith_1C_06.txt',\n",
       " 'C:\\\\Users\\\\lopezb41\\\\OneDrive - imec\\\\Documents\\\\Experiments\\\\Data\\\\Electrochemical\\\\L22\\\\L22_TiO2_90\\\\1C\\\\lith\\\\L22_TiO2_90_1C_lith_1C_07.txt',\n",
       " 'C:\\\\Users\\\\lopezb41\\\\OneDrive - imec\\\\Documents\\\\Experiments\\\\Data\\\\Electrochemical\\\\L22\\\\L22_TiO2_90\\\\1C\\\\lith\\\\L22_TiO2_90_1C_lith_1C_08.txt',\n",
       " 'C:\\\\Users\\\\lopezb41\\\\OneDrive - imec\\\\Documents\\\\Experiments\\\\Data\\\\Electrochemical\\\\L22\\\\L22_TiO2_90\\\\1C\\\\lith\\\\L22_TiO2_90_1C_lith_1C_09.txt',\n",
       " 'C:\\\\Users\\\\lopezb41\\\\OneDrive - imec\\\\Documents\\\\Experiments\\\\Data\\\\Electrochemical\\\\L22\\\\L22_TiO2_90\\\\1C\\\\lith\\\\L22_TiO2_90_1C_lith_1C_10.txt']"
      ]
     },
     "execution_count": 62,
     "metadata": {},
     "output_type": "execute_result"
    }
   ],
   "source": [
    "path = r'C:\\Users\\lopezb41\\OneDrive - imec\\Documents\\Experiments\\Data\\Electrochemical\\L22\\L22_TiO2_90\\1C\\lith'\n",
    "files = [os.path.join(path, i) for i in os.listdir(path)]\n",
    "new_files = []\n",
    "for i in files:\n",
    "    directory, filename = os.path.split(i)\n",
    "    numeric_part = filename.split('_')[-1].split('.txt')[0]\n",
    "    numeric_two_decimals = '{:02d}'.format(int(numeric_part))\n",
    "    \n",
    "    new_filename =filename[:-7] + filename[-7:-4].replace(numeric_part, numeric_two_decimals) + '.txt'  # filename.replace(numeric_part, numeric_two_decimals)\n",
    "    new_file_path = os.path.join(directory, new_filename)\n",
    "    \n",
    "    if i != new_file_path:\n",
    "                \n",
    "        os.rename(i, new_file_path)\n",
    "        print(f\"Renamed: {i} => {new_file_path}\")\n",
    "\n",
    "    "
   ]
  },
  {
   "cell_type": "code",
   "execution_count": 8,
   "metadata": {},
   "outputs": [
    {
     "name": "stdout",
     "output_type": "stream",
     "text": [
      "0.0030600000000000002\n",
      "0.805\n"
     ]
    }
   ],
   "source": [
    "#warburg\n",
    "zw = 400.75\n",
    "tau = 18.303\n",
    "alpha = 0.69\n",
    "\n",
    "print(34 * 9e-5)\n",
    "print((16+7) * 0.035)"
   ]
  },
  {
   "cell_type": "code",
   "execution_count": null,
   "metadata": {},
   "outputs": [],
   "source": [
    "\n"
   ]
  },
  {
   "cell_type": "code",
   "execution_count": 4,
   "metadata": {},
   "outputs": [
    {
     "name": "stdout",
     "output_type": "stream",
     "text": [
      "0.02829421210522584\n"
     ]
    },
    {
     "data": {
      "text/plain": [
       "1.7671458676442586"
      ]
     },
     "execution_count": 4,
     "metadata": {},
     "output_type": "execute_result"
    }
   ],
   "source": [
    "diameter = 1.5 # cm\n",
    "radius = diameter / 2\n",
    "area = np.pi * radius**2\n",
    "print(0.05/area)\n",
    "area"
   ]
  },
  {
   "cell_type": "code",
   "execution_count": 2,
   "metadata": {},
   "outputs": [
    {
     "data": {
      "text/plain": [
       "1.7671458676442586"
      ]
     },
     "execution_count": 2,
     "metadata": {},
     "output_type": "execute_result"
    }
   ],
   "source": [
    "r = 1.5/2\n",
    "area = np.pi * r**2\n",
    "area"
   ]
  },
  {
   "cell_type": "code",
   "execution_count": 3,
   "metadata": {},
   "outputs": [
    {
     "name": "stdout",
     "output_type": "stream",
     "text": [
      "254.77707006369425 3.183091418385536\n"
     ]
    }
   ],
   "source": [
    "a = 200 / 0.785\n",
    "b = 10 / 3.1416\n",
    "print(a,b)"
   ]
  },
  {
   "cell_type": "code",
   "execution_count": 4,
   "metadata": {},
   "outputs": [
    {
     "name": "stdout",
     "output_type": "stream",
     "text": [
      "1.0162736632348058e-09\n",
      "10000\n"
     ]
    }
   ],
   "source": [
    "areal_density = 90e15 # at/cm2 of Li\n",
    "thickness_th = 68e-7 # cm ; 68 nm\n",
    "li_density = areal_density * thickness_th\n",
    "avo = 6.022e23 # 1/mol\n",
    "li_mol = li_density / avo\n",
    "print(li_mol * 1000)\n",
    "print(100 * 100)"
   ]
  }
 ],
 "metadata": {
  "kernelspec": {
   "display_name": "Python 3",
   "language": "python",
   "name": "python3"
  },
  "language_info": {
   "codemirror_mode": {
    "name": "ipython",
    "version": 3
   },
   "file_extension": ".py",
   "mimetype": "text/x-python",
   "name": "python",
   "nbconvert_exporter": "python",
   "pygments_lexer": "ipython3",
   "version": "3.11.1"
  },
  "orig_nbformat": 4
 },
 "nbformat": 4,
 "nbformat_minor": 2
}
