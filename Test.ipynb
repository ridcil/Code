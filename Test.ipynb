{
 "cells": [
  {
   "cell_type": "code",
   "execution_count": 1,
   "metadata": {},
   "outputs": [],
   "source": [
    "import os\n",
    "import numpy as np\n",
    "import pandas as pd\n",
    "import matplotlib.pyplot as plt\n",
    "from lmfit import Model\n",
    "from scipy.stats import linregress\n",
    "import seaborn as sns\n",
    "\n",
    "import powerxrd as xrd\n",
    "\n",
    "sns.set_theme(style=\"darkgrid\", palette='Set1')"
   ]
  },
  {
   "cell_type": "code",
   "execution_count": 24,
   "metadata": {},
   "outputs": [],
   "source": [
    "path = r'C:\\Users\\lopezb41\\OneDrive - imec\\Documents\\Experiments\\Data\\Contact Resistance\\LSB_07\\0G_20_LCR'\n",
    "save = r'C:\\Users\\lopezb41\\OneDrive - imec\\Documents\\Experiments\\Data\\Contact Resistance\\LSB_07\\test'\n",
    "files = [os.path.join(path, i) for i in os.listdir(path)]\n",
    "for i in files: \n",
    "    df = pd.read_csv(i, usecols = [1,2])\n",
    "    _df = pd.concat([df['Vds'], df['Idc']], axis=1)\n",
    "    name = 'n_' + i[-10:-4] + '.txt'\n",
    "    _df.to_csv(os.path.join(path, name), index = False, sep = ';')"
   ]
  },
  {
   "cell_type": "code",
   "execution_count": null,
   "metadata": {},
   "outputs": [],
   "source": [
    "path = r'C:\\Users\\lopezb41\\OneDrive - imec\\Documents\\Experiments\\Data\\XRD\\LSB_07\\0G_06\\Data\\0G_06.csv'\n",
    "cols = ['Angle', 'Intensity']\n",
    "df = pd.read_csv(path, skiprows = 32, names = cols, usecols=[0,2])\n",
    "data = np.array([df[cols[0]], df[cols[1]]])\n",
    "chart = xrd.Chart(*data)\n",
    "chart.backsub(tol = 1, show = True)\n",
    "chart.SchPeak(xrange=[18, 20],verbose=True,show=True)\n",
    "\n",
    "\n",
    "plt.plot(*data, lw = 0.5)\n",
    "plt.ylim(-300, 1000)\n",
    "# plt.xlim(17,20)"
   ]
  }
 ],
 "metadata": {
  "kernelspec": {
   "display_name": "Python 3",
   "language": "python",
   "name": "python3"
  },
  "language_info": {
   "codemirror_mode": {
    "name": "ipython",
    "version": 3
   },
   "file_extension": ".py",
   "mimetype": "text/x-python",
   "name": "python",
   "nbconvert_exporter": "python",
   "pygments_lexer": "ipython3",
   "version": "3.9.13"
  },
  "orig_nbformat": 4,
  "vscode": {
   "interpreter": {
    "hash": "07efca2f57058c8396287c06e71748f56c683db983d28c5eca359ebc2a15da43"
   }
  }
 },
 "nbformat": 4,
 "nbformat_minor": 2
}
