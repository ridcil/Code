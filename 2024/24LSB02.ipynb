{
 "cells": [
  {
   "cell_type": "code",
   "execution_count": 1,
   "metadata": {},
   "outputs": [],
   "source": [
    "# Import methods\n",
    "%run Methods.ipynb\n",
    "color_map = 'flare'"
   ]
  },
  {
   "cell_type": "markdown",
   "metadata": {},
   "source": [
    "Here you find the cycling of LMO with Pt10 and Pt30. Pt30 with extra data set going to 0.1V vs Li/Li"
   ]
  },
  {
   "cell_type": "code",
   "execution_count": 2,
   "metadata": {},
   "outputs": [],
   "source": [
    "#### PT10 LMO\n",
    "path = r'C:\\Users\\lopezb41\\OneDrive - imec\\Documents\\Experiments\\Data\\Electrochemical\\2024\\24LSB02\\Pt10_01'\n",
    "setup_files(path)\n",
    "area = np.pi * 0.5 **2 # cm2\n",
    "thick = 90\n",
    "sample = 'Pt10'\n",
    "pt10 = cc(path, area, thick, sample)"
   ]
  },
  {
   "cell_type": "code",
   "execution_count": 3,
   "metadata": {},
   "outputs": [],
   "source": [
    "#### PLOT PT10nm LMO\n",
    "\n",
    "# cv_plot(pt10, color_map, 100)\n",
    "# cc_plot(pt10, color_map, 100)"
   ]
  },
  {
   "cell_type": "code",
   "execution_count": 4,
   "metadata": {},
   "outputs": [],
   "source": [
    "##### Pt30nm LMO\n",
    "path = r'C:\\Users\\lopezb41\\OneDrive - imec\\Documents\\Experiments\\Data\\Electrochemical\\2024\\24LSB02\\Pt30nm\\1'\n",
    "setup_files(path)\n",
    "area = np.pi * 0.5 **2 # cm2\n",
    "thick = 90\n",
    "sample = 'Pt30'\n",
    "pt30 = cc(path, area, thick, sample)\n"
   ]
  },
  {
   "cell_type": "code",
   "execution_count": 5,
   "metadata": {},
   "outputs": [],
   "source": [
    "#### PLOT PT30nm LMO\n",
    "\n",
    "# cv_plot(pt30, color_map, 100)\n",
    "# cv_scan_plot(pt30, 100)\n",
    "# a = 0\n",
    "# b = 1060\n",
    "# capacity_cv(pt30[0], 100, area, thick, a, b, False)\n",
    "# capacity_cv(pt30[0], 100, area, thick, 1060, 1930, True)\n",
    "# cc_plot(pt30, color_map, 100)"
   ]
  },
  {
   "cell_type": "code",
   "execution_count": 6,
   "metadata": {},
   "outputs": [],
   "source": [
    "### Pt30nm/LMO ext window\n",
    "path = r'C:\\Users\\lopezb41\\OneDrive - imec\\Documents\\Experiments\\Data\\Electrochemical\\2024\\24LSB02\\Pt30nm\\2'\n",
    "setup_files(path)\n",
    "area = np.pi * 0.5 **2 # cm2\n",
    "thick = 90\n",
    "sample = 'Pt30_2'\n",
    "pt30_2 = cc(path, area, thick, sample)"
   ]
  },
  {
   "cell_type": "code",
   "execution_count": 7,
   "metadata": {},
   "outputs": [],
   "source": [
    "###PLOT Pt30nm/LMO ext window\n",
    "# cv_plot(pt30_2, color_map, 100)\n",
    "# plt.ylim(-0.0001, 0.00015)\n",
    "# cv_scan_plot(pt30_2, 100)"
   ]
  },
  {
   "cell_type": "markdown",
   "metadata": {},
   "source": [
    "Here comes the Pt in LiClO4 1M in PC"
   ]
  },
  {
   "cell_type": "code",
   "execution_count": 8,
   "metadata": {},
   "outputs": [],
   "source": [
    "# Pt1 from 1.0 to 4.7 V\n",
    "path = r'C:\\Users\\lopezb41\\OneDrive - imec\\Documents\\Experiments\\Data\\Electrochemical\\2024\\24LSB02\\Pt\\1'\n",
    "area = np.pi * (0.5 **2) # cm2\n",
    "setup_files(path)\n",
    "name = 'Pt1'\n",
    "pt1 = cc(path, area, 1, name)\n"
   ]
  },
  {
   "cell_type": "code",
   "execution_count": 9,
   "metadata": {},
   "outputs": [],
   "source": [
    "#### PLot Pt1 from 1.0 to 4.7 V\n",
    "# cv_plot(pt1, color_map, 100)\n",
    "# plt.xlim(4, 5)"
   ]
  },
  {
   "cell_type": "code",
   "execution_count": 10,
   "metadata": {},
   "outputs": [],
   "source": [
    "# Pt2 from 0.2 to 4.7 V\n",
    "path = r'C:\\Users\\lopezb41\\OneDrive - imec\\Documents\\Experiments\\Data\\Electrochemical\\2024\\24LSB02\\Pt\\2'\n",
    "area = np.pi * (0.5 **2) # cm2\n",
    "setup_files(path)\n",
    "name = 'Pt2'\n",
    "pt2 = cc(path, area, 1, name)"
   ]
  },
  {
   "cell_type": "code",
   "execution_count": 11,
   "metadata": {},
   "outputs": [],
   "source": [
    "#### PLot Pt2 from 0.2V to 4.7 V\n",
    "# cv_plot(pt2, color_map, 100)\n",
    "# plt.xlim(0, 1)"
   ]
  },
  {
   "cell_type": "code",
   "execution_count": 12,
   "metadata": {},
   "outputs": [],
   "source": [
    "# Pt3 from 0 to 4.5 V\n",
    "path = r'C:\\Users\\lopezb41\\OneDrive - imec\\Documents\\Experiments\\Data\\Electrochemical\\2024\\24LSB02\\Pt\\3'\n",
    "area = np.pi * (0.5 **2) # cm2\n",
    "setup_files(path)\n",
    "name = 'Pt3'\n",
    "pt3 = cc(path, area, 1, name)"
   ]
  },
  {
   "cell_type": "code",
   "execution_count": 13,
   "metadata": {},
   "outputs": [],
   "source": [
    "#### PLot Pt3 from 0 to 4.5 V\n",
    "# cv_plot(pt3, color_map, 100)\n",
    "# plt.xlim(4, 5)"
   ]
  },
  {
   "cell_type": "code",
   "execution_count": 14,
   "metadata": {},
   "outputs": [],
   "source": [
    "# Pt_tio2_9nm from 0.15 to 2.7 V\n",
    "path = r'C:\\Users\\lopezb41\\OneDrive - imec\\Documents\\Experiments\\Data\\Electrochemical\\2024\\24LSB02\\Pt_TiO2_9nm\\1'\n",
    "area = np.pi * (0.5 **2) # cm2\n",
    "setup_files(path)\n",
    "name = 'Pt TiO2 1'\n",
    "pt_tio2_1 = cc(path, area, 1, name)"
   ]
  },
  {
   "cell_type": "code",
   "execution_count": 15,
   "metadata": {},
   "outputs": [],
   "source": [
    "#### PLot t_tio2_9nm from 0.15 to 2.7 V\n",
    "# cv_plot(pt_tio2_1, color_map, 100)\n",
    "# plt.xlim(0,0.2)"
   ]
  },
  {
   "cell_type": "code",
   "execution_count": 16,
   "metadata": {},
   "outputs": [],
   "source": [
    "#### Pt with TiO2 ALD from 0.2 to 3.5 V\n",
    "\n",
    "path = r'C:\\Users\\lopezb41\\OneDrive - imec\\Documents\\Experiments\\Data\\Electrochemical\\2024\\24LSB02\\Pt_TiO2_9nm\\2'\n",
    "area = np.pi * (0.5 **2) # cm2\n",
    "setup_files(path)\n",
    "name = 'Pt TiO2 2'\n",
    "pt_tio2_2 = cc(path, area, 1, name)"
   ]
  },
  {
   "cell_type": "code",
   "execution_count": 17,
   "metadata": {},
   "outputs": [],
   "source": [
    "#### Plot Pt ALD TiO2\n",
    "# cv_plot(pt_tio2_2, color_map, 100)\n",
    "# cv_scan_plot(pt_tio2_2, 100)"
   ]
  },
  {
   "cell_type": "code",
   "execution_count": 18,
   "metadata": {},
   "outputs": [],
   "source": [
    "### COMPARISON\n",
    "\n",
    "pt = pd.concat([pt1[0], pt2[0], pt3[0], pt_tio2_1[0], pt_tio2_2[0]], ignore_index = True)\n",
    "\n",
    "# fig, ax = plt.subplots(dpi = 100)\n",
    "# sns.scatterplot(data = pt, x = 'Time (s)', y = strings[0], edgecolor = None, s = 2, hue = 'Sample')\n",
    "# sns.scatterplot(data = pt, x = col_cv[0], y = strings[0], edgecolor = None, s = 2, hue = 'Sample')\n",
    "# plt.xlim(0, 5000)\n"
   ]
  },
  {
   "cell_type": "code",
   "execution_count": 19,
   "metadata": {},
   "outputs": [],
   "source": [
    "# TiO2 ref used in 2023 for nanosce. TiO2 40nm cycled in LiClO4 from 0.75 to 3 V\n",
    "path = r'C:\\Users\\lopezb41\\OneDrive - imec\\Documents\\Experiments\\Data\\Electrochemical\\2024\\24Feb_NanoSCE\\TiO2ref2023\\CV'\n",
    "area = np.pi * (0.5 **2)\n",
    "thickness = 40\n",
    "sample = 'TiO2 40nm'\n",
    "\n",
    "files = sorted([os.path.join(path, i) for i in os.listdir(path)], reverse=True)\n",
    "tio2_cv = pd.DataFrame()\n",
    "for i in files:\n",
    "    df = pd.read_csv(i, sep = ';')#, skiprows = 1, names = col_cv)\n",
    "    df[strings[0]] = df['WE(1).Current (A)'] / area\n",
    "    if '_Initial_' in i:\n",
    "        df['CV'] = 'Initial'\n",
    "    else:\n",
    "        df['CV'] = 'Final'\n",
    "    df['Sample'] = sample\n",
    "    df['Corrected Time'] = df['Time (s)'] - df['Time (s)'][0]\n",
    "    df = df.rename(columns = {'Time (s)' : 'time',\n",
    "                          'Corrected Time' : 'Time (s)',\n",
    "                          'WE(1).Potential (V)' : col_cv[0]})\n",
    "    tio2_cv = pd.concat([tio2_cv, df], ignore_index=True)\n",
    "tio2_cv_ = tio2_cv[tio2_cv[col_cv[0]] > 0.7]\n"
   ]
  },
  {
   "cell_type": "code",
   "execution_count": 20,
   "metadata": {},
   "outputs": [
    {
     "data": {
      "text/html": [
       "<div>\n",
       "<style scoped>\n",
       "    .dataframe tbody tr th:only-of-type {\n",
       "        vertical-align: middle;\n",
       "    }\n",
       "\n",
       "    .dataframe tbody tr th {\n",
       "        vertical-align: top;\n",
       "    }\n",
       "\n",
       "    .dataframe thead th {\n",
       "        text-align: right;\n",
       "    }\n",
       "</style>\n",
       "<table border=\"1\" class=\"dataframe\">\n",
       "  <thead>\n",
       "    <tr style=\"text-align: right;\">\n",
       "      <th></th>\n",
       "      <th>Potential vs Li$^+$/Li (V)</th>\n",
       "      <th>WE(1).Current (A)</th>\n",
       "      <th>WE(1).Charge (C)</th>\n",
       "      <th>time</th>\n",
       "      <th>current_density (A/cm2)</th>\n",
       "      <th>Scan</th>\n",
       "      <th>Current Density (A/cm$^2$)</th>\n",
       "      <th>CV</th>\n",
       "      <th>Sample</th>\n",
       "      <th>Time (s)</th>\n",
       "    </tr>\n",
       "  </thead>\n",
       "  <tbody>\n",
       "    <tr>\n",
       "      <th>0</th>\n",
       "      <td>2.361145</td>\n",
       "      <td>1.193237e-09</td>\n",
       "      <td>0.000000e+00</td>\n",
       "      <td>24.208267</td>\n",
       "      <td>1.894027e-09</td>\n",
       "      <td>1</td>\n",
       "      <td>1.519277e-09</td>\n",
       "      <td>Initial</td>\n",
       "      <td>TiO2 40nm</td>\n",
       "      <td>0.000000</td>\n",
       "    </tr>\n",
       "    <tr>\n",
       "      <th>1</th>\n",
       "      <td>2.362366</td>\n",
       "      <td>-3.540039e-10</td>\n",
       "      <td>4.481989e-10</td>\n",
       "      <td>25.276382</td>\n",
       "      <td>-5.619110e-10</td>\n",
       "      <td>1</td>\n",
       "      <td>-4.507318e-10</td>\n",
       "      <td>Initial</td>\n",
       "      <td>TiO2 40nm</td>\n",
       "      <td>1.068115</td>\n",
       "    </tr>\n",
       "    <tr>\n",
       "      <th>2</th>\n",
       "      <td>2.362671</td>\n",
       "      <td>2.868652e-10</td>\n",
       "      <td>4.123430e-10</td>\n",
       "      <td>26.344497</td>\n",
       "      <td>4.553416e-10</td>\n",
       "      <td>1</td>\n",
       "      <td>3.652482e-10</td>\n",
       "      <td>Initial</td>\n",
       "      <td>TiO2 40nm</td>\n",
       "      <td>2.136230</td>\n",
       "    </tr>\n",
       "    <tr>\n",
       "      <th>3</th>\n",
       "      <td>2.364807</td>\n",
       "      <td>2.011108e-09</td>\n",
       "      <td>1.639593e-09</td>\n",
       "      <td>27.412612</td>\n",
       "      <td>3.192236e-09</td>\n",
       "      <td>1</td>\n",
       "      <td>2.560623e-09</td>\n",
       "      <td>Initial</td>\n",
       "      <td>TiO2 40nm</td>\n",
       "      <td>3.204345</td>\n",
       "    </tr>\n",
       "    <tr>\n",
       "      <th>4</th>\n",
       "      <td>2.364502</td>\n",
       "      <td>1.535034e-09</td>\n",
       "      <td>3.533437e-09</td>\n",
       "      <td>28.480727</td>\n",
       "      <td>2.436562e-09</td>\n",
       "      <td>1</td>\n",
       "      <td>1.954466e-09</td>\n",
       "      <td>Initial</td>\n",
       "      <td>TiO2 40nm</td>\n",
       "      <td>4.272460</td>\n",
       "    </tr>\n",
       "    <tr>\n",
       "      <th>...</th>\n",
       "      <td>...</td>\n",
       "      <td>...</td>\n",
       "      <td>...</td>\n",
       "      <td>...</td>\n",
       "      <td>...</td>\n",
       "      <td>...</td>\n",
       "      <td>...</td>\n",
       "      <td>...</td>\n",
       "      <td>...</td>\n",
       "      <td>...</td>\n",
       "    </tr>\n",
       "    <tr>\n",
       "      <th>107534</th>\n",
       "      <td>2.981873</td>\n",
       "      <td>1.029358e-06</td>\n",
       "      <td>4.901954e-03</td>\n",
       "      <td>376854.093242</td>\n",
       "      <td>1.633901e-06</td>\n",
       "      <td>5</td>\n",
       "      <td>1.310619e-06</td>\n",
       "      <td>Final</td>\n",
       "      <td>TiO2 40nm</td>\n",
       "      <td>24207.758299</td>\n",
       "    </tr>\n",
       "    <tr>\n",
       "      <th>107535</th>\n",
       "      <td>2.982788</td>\n",
       "      <td>1.025696e-06</td>\n",
       "      <td>4.903051e-03</td>\n",
       "      <td>376855.161357</td>\n",
       "      <td>1.628089e-06</td>\n",
       "      <td>5</td>\n",
       "      <td>1.305956e-06</td>\n",
       "      <td>Final</td>\n",
       "      <td>TiO2 40nm</td>\n",
       "      <td>24208.826414</td>\n",
       "    </tr>\n",
       "    <tr>\n",
       "      <th>107536</th>\n",
       "      <td>2.991333</td>\n",
       "      <td>1.021118e-06</td>\n",
       "      <td>4.904144e-03</td>\n",
       "      <td>376856.229472</td>\n",
       "      <td>1.620822e-06</td>\n",
       "      <td>5</td>\n",
       "      <td>1.300128e-06</td>\n",
       "      <td>Final</td>\n",
       "      <td>TiO2 40nm</td>\n",
       "      <td>24209.894529</td>\n",
       "    </tr>\n",
       "    <tr>\n",
       "      <th>107537</th>\n",
       "      <td>2.983398</td>\n",
       "      <td>1.017151e-06</td>\n",
       "      <td>4.905233e-03</td>\n",
       "      <td>376857.297587</td>\n",
       "      <td>1.614525e-06</td>\n",
       "      <td>5</td>\n",
       "      <td>1.295077e-06</td>\n",
       "      <td>Final</td>\n",
       "      <td>TiO2 40nm</td>\n",
       "      <td>24210.962644</td>\n",
       "    </tr>\n",
       "    <tr>\n",
       "      <th>107538</th>\n",
       "      <td>2.986450</td>\n",
       "      <td>1.013794e-06</td>\n",
       "      <td>4.906317e-03</td>\n",
       "      <td>376858.365702</td>\n",
       "      <td>1.609197e-06</td>\n",
       "      <td>5</td>\n",
       "      <td>1.290803e-06</td>\n",
       "      <td>Final</td>\n",
       "      <td>TiO2 40nm</td>\n",
       "      <td>24212.030759</td>\n",
       "    </tr>\n",
       "  </tbody>\n",
       "</table>\n",
       "<p>107539 rows × 10 columns</p>\n",
       "</div>"
      ],
      "text/plain": [
       "        Potential vs Li$^+$/Li (V)  WE(1).Current (A)  WE(1).Charge (C)  \\\n",
       "0                         2.361145       1.193237e-09      0.000000e+00   \n",
       "1                         2.362366      -3.540039e-10      4.481989e-10   \n",
       "2                         2.362671       2.868652e-10      4.123430e-10   \n",
       "3                         2.364807       2.011108e-09      1.639593e-09   \n",
       "4                         2.364502       1.535034e-09      3.533437e-09   \n",
       "...                            ...                ...               ...   \n",
       "107534                    2.981873       1.029358e-06      4.901954e-03   \n",
       "107535                    2.982788       1.025696e-06      4.903051e-03   \n",
       "107536                    2.991333       1.021118e-06      4.904144e-03   \n",
       "107537                    2.983398       1.017151e-06      4.905233e-03   \n",
       "107538                    2.986450       1.013794e-06      4.906317e-03   \n",
       "\n",
       "                 time  current_density (A/cm2)  Scan  \\\n",
       "0           24.208267             1.894027e-09     1   \n",
       "1           25.276382            -5.619110e-10     1   \n",
       "2           26.344497             4.553416e-10     1   \n",
       "3           27.412612             3.192236e-09     1   \n",
       "4           28.480727             2.436562e-09     1   \n",
       "...               ...                      ...   ...   \n",
       "107534  376854.093242             1.633901e-06     5   \n",
       "107535  376855.161357             1.628089e-06     5   \n",
       "107536  376856.229472             1.620822e-06     5   \n",
       "107537  376857.297587             1.614525e-06     5   \n",
       "107538  376858.365702             1.609197e-06     5   \n",
       "\n",
       "        Current Density (A/cm$^2$)       CV     Sample      Time (s)  \n",
       "0                     1.519277e-09  Initial  TiO2 40nm      0.000000  \n",
       "1                    -4.507318e-10  Initial  TiO2 40nm      1.068115  \n",
       "2                     3.652482e-10  Initial  TiO2 40nm      2.136230  \n",
       "3                     2.560623e-09  Initial  TiO2 40nm      3.204345  \n",
       "4                     1.954466e-09  Initial  TiO2 40nm      4.272460  \n",
       "...                            ...      ...        ...           ...  \n",
       "107534                1.310619e-06    Final  TiO2 40nm  24207.758299  \n",
       "107535                1.305956e-06    Final  TiO2 40nm  24208.826414  \n",
       "107536                1.300128e-06    Final  TiO2 40nm  24209.894529  \n",
       "107537                1.295077e-06    Final  TiO2 40nm  24210.962644  \n",
       "107538                1.290803e-06    Final  TiO2 40nm  24212.030759  \n",
       "\n",
       "[107539 rows x 10 columns]"
      ]
     },
     "execution_count": 20,
     "metadata": {},
     "output_type": "execute_result"
    }
   ],
   "source": [
    "### TiO2 ref 2023\n",
    "# fig, ax = plt.subplots()\n",
    "# sns.scatterplot(data = tio2_cv_, x = col_cv[0], y = strings[0], edgecolor = None, s =2)\n",
    "tio2_cv"
   ]
  },
  {
   "cell_type": "code",
   "execution_count": 21,
   "metadata": {},
   "outputs": [
    {
     "data": {
      "text/plain": [
       "<AxesSubplot: xlabel='Potential vs Li$^+$/Li (V)', ylabel='Current Density (A/cm$^2$)'>"
      ]
     },
     "execution_count": 21,
     "metadata": {},
     "output_type": "execute_result"
    },
    {
     "data": {
      "image/png": "[encoded data removed]",
      "text/plain": [
       "<Figure size 640x480 with 1 Axes>"
      ]
     },
     "metadata": {},
     "output_type": "display_data"
    }
   ],
   "source": [
    "###LMO in LiPF6\n",
    "sample = 'LMO in LiPF6'\n",
    "path = r'C:\\Users\\lopezb41\\OneDrive - imec\\Documents\\Experiments\\Data\\Electrochemical\\2024\\LMO LiPF6'\n",
    "file = os.path.join(path, os.listdir(path)[0])\n",
    "area = (0.75 **2) * np.pi\n",
    "df = pd.read_csv(file, sep = '\\t')\n",
    "df1 = df[df['Time (s)'] < 7000]\n",
    "df2 = df[df['Time (s)'] > 0]\n",
    "df2_ = df2[df2['Time (s)'] < 14000].reset_index()\n",
    "lmo_lipf6 = df2_.copy()\n",
    "lmo_lipf6['WE(1).Charge (C)'] = 0\n",
    "lmo_lipf6['Scan'] = 0\n",
    "lmo_lipf6 = lmo_lipf6.rename(columns={'WE(1).Potential (V)' : col_cv[0],\n",
    "                                      'Time (s)' : 'time'})\n",
    "lmo_lipf6[strings[0]] = df2_['WE(1).Current (A)'] / area\n",
    "lmo_lipf6['CV'] = 'Final'\n",
    "lmo_lipf6['Sample'] = sample \n",
    "lmo_lipf6['Time ( s)'] = lmo_lipf6['time'] - lmo_lipf6['time'][0]\n",
    "fig, ax = plt.subplots()\n",
    "sns.scatterplot(data = lmo_lipf6, x = col_cv[0], y = strings[0], edgecolor = None, s = 2)\n"
   ]
  }
 ],
 "metadata": {
  "kernelspec": {
   "display_name": "Python 3",
   "language": "python",
   "name": "python3"
  },
  "language_info": {
   "codemirror_mode": {
    "name": "ipython",
    "version": 3
   },
   "file_extension": ".py",
   "mimetype": "text/x-python",
   "name": "python",
   "nbconvert_exporter": "python",
   "pygments_lexer": "ipython3",
   "version": "3.11.1"
  }
 },
 "nbformat": 4,
 "nbformat_minor": 2
}
