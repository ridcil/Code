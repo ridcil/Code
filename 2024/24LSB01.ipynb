{
 "cells": [
  {
   "cell_type": "code",
   "execution_count": 1,
   "metadata": {},
   "outputs": [],
   "source": [
    "# Import methods\n",
    "\n",
    "%run Methods.ipynb"
   ]
  },
  {
   "cell_type": "code",
   "execution_count": 2,
   "metadata": {},
   "outputs": [],
   "source": [
    "#STD_02 Second sample for Xinhua after breaking 1st at 5V\n",
    "path = r'C:\\Users\\lopezb41\\OneDrive - imec\\Documents\\Experiments\\Data\\Electrochemical\\2024\\24LSB01\\STD_02'\n",
    "setup_files(path)\n",
    "area = np.pi\n",
    "thickness = 90\n",
    "sample = 'STD_02'\n",
    "results = cc(path, area, thickness, sample)"
   ]
  },
  {
   "cell_type": "code",
   "execution_count": 3,
   "metadata": {},
   "outputs": [],
   "source": [
    "### PLOT STD_02\n",
    "\n",
    "# cv_plot(results[0], color_map, 100)\n",
    "# cc_plot(results, color_map, 100)"
   ]
  },
  {
   "cell_type": "code",
   "execution_count": 4,
   "metadata": {},
   "outputs": [],
   "source": [
    "# STD_02_2 New sample after blowing up to 5V\n",
    "path = r'C:\\Users\\lopezb41\\OneDrive - imec\\Documents\\Experiments\\Data\\Electrochemical\\2024\\24LSB01\\STD_02_2'\n",
    "setup_files(path)\n",
    "area = np.pi\n",
    "thickness = 90\n",
    "sample = 'LMO 1C'\n",
    "std02_1C = cc(path, area, thickness, sample)\n",
    "# std02_1C[0]"
   ]
  },
  {
   "cell_type": "code",
   "execution_count": 5,
   "metadata": {},
   "outputs": [],
   "source": [
    "###PLOT STD_02_2\n",
    "# cv_plot(std02_1C[0], color_map, 100)\n",
    "# cc_plot(std02_1C, color_map, 100)\n",
    "# dq_dv_plot(std02_1C, color_map, 100)\n",
    "# plt.ylim(-100, 400)"
   ]
  },
  {
   "cell_type": "code",
   "execution_count": 6,
   "metadata": {},
   "outputs": [],
   "source": [
    "# STD_02_2C\n",
    "path = r'C:\\Users\\lopezb41\\OneDrive - imec\\Documents\\Experiments\\Data\\Electrochemical\\2024\\24LSB01\\STD02_2C'\n",
    "setup_files(path)\n",
    "area = np.pi\n",
    "thickness = 90\n",
    "sample = 'LMO 2C'\n",
    "std02_2c = cc(path, area, thickness, sample)"
   ]
  },
  {
   "cell_type": "code",
   "execution_count": 7,
   "metadata": {},
   "outputs": [],
   "source": [
    "##### PLOT STD02 2C\n",
    "# cv_plot(std02_2c[0], color_map, 100)\n",
    "# cc_plot(std02_2c, color_map, 100)\n",
    "# dq_dv_plot(std02_2c, color_map, 100)\n",
    "# plt.ylim(-10, 250)"
   ]
  },
  {
   "cell_type": "code",
   "execution_count": 8,
   "metadata": {},
   "outputs": [],
   "source": [
    "# STD_02_5C\n",
    "path = r'C:\\Users\\lopezb41\\OneDrive - imec\\Documents\\Experiments\\Data\\Electrochemical\\2024\\24LSB01\\STD_02_5C'\n",
    "setup_files(path)\n",
    "area = np.pi\n",
    "thickness = 90\n",
    "sample = 'LMO 5C'\n",
    "std02_5c = cc(path, area, thickness, sample)"
   ]
  },
  {
   "cell_type": "code",
   "execution_count": 9,
   "metadata": {},
   "outputs": [],
   "source": [
    "#### STD_02_5C Plot\n",
    "# cv_plot(std02_5c[0], color_map, 100)\n",
    "# cc_plot(std02_5c, color_map, 100)\n",
    "# dq_dv_plot(std02_5c, color_map, 100)\n",
    "# plt.ylim(-10, 100)"
   ]
  },
  {
   "cell_type": "code",
   "execution_count": 10,
   "metadata": {},
   "outputs": [],
   "source": [
    "# New LMO cv low potentials 1.5V\n",
    "path = r'C:\\Users\\lopezb41\\OneDrive - imec\\Documents\\Experiments\\Data\\Electrochemical\\2024\\24LSB01\\STD_CV'\n",
    "setup_files(path)\n",
    "area = np.pi\n",
    "thickness = 90\n",
    "sample = 'LMO lp 1.5V'\n",
    "std02_lp = cc(path, area, thickness, sample)"
   ]
  },
  {
   "cell_type": "code",
   "execution_count": 11,
   "metadata": {},
   "outputs": [],
   "source": [
    "# LMO lp PLOT\n",
    "# cv_plot(std02_lp[0], color_map, 100)"
   ]
  },
  {
   "cell_type": "code",
   "execution_count": 12,
   "metadata": {},
   "outputs": [],
   "source": [
    "# New LMO cycling scanning at low potentials\n",
    "path = r'C:\\Users\\lopezb41\\OneDrive - imec\\Documents\\Experiments\\Data\\Electrochemical\\2024\\24LSB01\\STD_CV_afterlowpot'\n",
    "setup_files(path)\n",
    "area = np.pi\n",
    "thickness = 90\n",
    "sample = 'LMO std'\n",
    "std02_lowp = cc(path, area, thickness, sample)"
   ]
  },
  {
   "cell_type": "code",
   "execution_count": 13,
   "metadata": {},
   "outputs": [],
   "source": [
    "# LMO cycling afterlow pot PLOTS\n",
    "# color_map = 'flare'\n",
    "# cv_plot(std02_lowp[0], color_map, 100)\n",
    "\n",
    "# cc_plot(std02_lowp, color_map, 100)\n",
    "# plt.grid()\n",
    "# dq_dv_plot(std02_lowp, color_map, 100)\n",
    "# plt.ylim(-10, 200)"
   ]
  },
  {
   "cell_type": "code",
   "execution_count": 14,
   "metadata": {},
   "outputs": [],
   "source": [
    "# ###### Compile 1C, 2C and 5C\n",
    "# results = [std02_1C, std02_2c, std02_5c]\n",
    "# results_df = pd.DataFrame()\n",
    "# for i in results:\n",
    "#     results_df = pd.concat([results_df, i[1], i[2]], ignore_index = True)\n",
    "# fig, ax = plt.subplots(dpi = 100)\n",
    "\n",
    "# sns.scatterplot(data = results_df, x = 'Capacity (mAh/cm$^3$)', y = 'WE(1).Potential (V)', hue = 'Sample', edgecolor = None, s = 2)\n",
    "\n",
    "\n",
    "# #Remove data below 3.4 V\n"
   ]
  }
 ],
 "metadata": {
  "kernelspec": {
   "display_name": "Python 3",
   "language": "python",
   "name": "python3"
  },
  "language_info": {
   "codemirror_mode": {
    "name": "ipython",
    "version": 3
   },
   "file_extension": ".py",
   "mimetype": "text/x-python",
   "name": "python",
   "nbconvert_exporter": "python",
   "pygments_lexer": "ipython3",
   "version": "3.11.1"
  }
 },
 "nbformat": 4,
 "nbformat_minor": 2
}
