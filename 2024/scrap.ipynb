{
 "cells": [
  {
   "cell_type": "code",
   "execution_count": 1,
   "metadata": {},
   "outputs": [],
   "source": [
    "import os\n",
    "import numpy as np\n",
    "import pandas as pd\n",
    "import matplotlib.pyplot as plt\n",
    "import seaborn as sns\n",
    "import matplotlib.ticker as ticker\n",
    "from matplotlib.cm import ScalarMappable\n",
    "from matplotlib.colors import Normalize\n",
    "from matplotlib.colors import ListedColormap\n",
    "from lmfit import Model\n",
    "from scipy.stats import linregress\n",
    "from scipy import integrate"
   ]
  },
  {
   "cell_type": "code",
   "execution_count": 11,
   "metadata": {},
   "outputs": [],
   "source": [
    "F = 96485 # C/mol\n",
    "def q_th_grav(n, m_w):\n",
    "    return (n * F / m_w) / 3.6\n",
    "\n",
    "def q_th_vol(n, m_w, density):\n",
    "    return (n * F / m_w) * density / 3.6"
   ]
  },
  {
   "cell_type": "code",
   "execution_count": 25,
   "metadata": {},
   "outputs": [
    {
     "name": "stdout",
     "output_type": "stream",
     "text": [
      "168 mAh/g 710 mAh/cm3\n"
     ]
    },
    {
     "data": {
      "text/plain": [
       "63.78927905178556"
      ]
     },
     "execution_count": 25,
     "metadata": {},
     "output_type": "execute_result"
    }
   ],
   "source": [
    "tio2_mw = 79.866 #g/mol\n",
    "tio2_density = 4.23\n",
    "n = 0.5\n",
    "qth_tiO2_grav = q_th_grav(n, tio2_mw)\n",
    "qth_tio2_vol = q_th_vol(n, tio2_mw, tio2_density)\n",
    "print(f'{round(qth_tiO2_grav)} mAh/g', f'{round(qth_tio2_vol)} mAh/cm3')\n",
    "\n",
    "thick = 9e-7\n",
    "vol = np.pi * thick\n",
    "charge = 4.61e-3\n",
    "cap = charge / (3.6 * vol)\n",
    "cap * 100 / 710 # ~ 64% theoretical capacity"
   ]
  }
 ],
 "metadata": {
  "kernelspec": {
   "display_name": "Python 3",
   "language": "python",
   "name": "python3"
  },
  "language_info": {
   "codemirror_mode": {
    "name": "ipython",
    "version": 3
   },
   "file_extension": ".py",
   "mimetype": "text/x-python",
   "name": "python",
   "nbconvert_exporter": "python",
   "pygments_lexer": "ipython3",
   "version": "3.11.1"
  }
 },
 "nbformat": 4,
 "nbformat_minor": 2
}
