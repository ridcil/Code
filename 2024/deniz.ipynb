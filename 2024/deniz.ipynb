{
 "cells": [
  {
   "cell_type": "code",
   "execution_count": 1,
   "metadata": {},
   "outputs": [],
   "source": [
    "import os\n",
    "import numpy as np\n",
    "import pandas as pd\n",
    "import matplotlib.pyplot as plt\n",
    "import seaborn as sns\n",
    "import matplotlib.ticker as ticker\n",
    "from matplotlib.cm import ScalarMappable\n",
    "from matplotlib.colors import Normalize\n",
    "from matplotlib.colors import ListedColormap\n",
    "from lmfit import Model\n",
    "from scipy.stats import linregress\n",
    "from scipy import integrate\n",
    "\n",
    "from scipy.signal import savgol_filter"
   ]
  },
  {
   "cell_type": "code",
   "execution_count": 22,
   "metadata": {},
   "outputs": [
    {
     "name": "stdout",
     "output_type": "stream",
     "text": [
      "div>\n",
      "['div', '']\n",
      "Y\n",
      "div>\n"
     ]
    }
   ],
   "source": [
    "test = '<div><b><p>hello world</p></b></div>'\n",
    "elements = ['b', 'i', 'em,', 'div']\n",
    "\n",
    "n = 0\n",
    "\n",
    "\n",
    "\n",
    "# while n < len(test): \n",
    "# for i in test:\n",
    "    \n",
    "#     if i == '<':\n",
    "#         continue\n",
    "#     else: print(i)\n",
    "    \n",
    "    \n",
    "    # print('yes')\n",
    "if test[0] == '<':\n",
    "    print(test.split('<')[1])\n",
    "    a = test.split('<')[1]\n",
    "    print(a.split('>'))\n",
    "    if a.split('>')[0] in elements:\n",
    "        print('Y') \n",
    "    print(a)"
   ]
  }
 ],
 "metadata": {
  "kernelspec": {
   "display_name": "Python 3",
   "language": "python",
   "name": "python3"
  },
  "language_info": {
   "codemirror_mode": {
    "name": "ipython",
    "version": 3
   },
   "file_extension": ".py",
   "mimetype": "text/x-python",
   "name": "python",
   "nbconvert_exporter": "python",
   "pygments_lexer": "ipython3",
   "version": "3.11.1"
  }
 },
 "nbformat": 4,
 "nbformat_minor": 2
}
