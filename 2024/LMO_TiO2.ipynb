{
 "cells": [
  {
   "cell_type": "code",
   "execution_count": 1,
   "metadata": {},
   "outputs": [],
   "source": [
    "# Import methods\n",
    "\n",
    "%run Methods.ipynb"
   ]
  },
  {
   "cell_type": "code",
   "execution_count": 2,
   "metadata": {},
   "outputs": [],
   "source": [
    "# Old LMO\n",
    "\n",
    "area = np.pi\n",
    "thickness = 90\n",
    "\n",
    "path = r'C:\\Users\\lopezb41\\OneDrive - imec\\Documents\\Experiments\\Data\\Electrochemical\\2023\\LESK32\\SCE_mimic\\Full lithiation'\n",
    "file = [os.path.join(path, i) for i in os.listdir(path)][0]\n",
    "df1 = pd.read_csv(file, sep = ';')\n",
    "df1['Corrected Time'] = df1['Time (s)'] - df1['Time (s)'][0]\n",
    "df1 = df1.rename(columns = {'WE(1).Current (A)' : col_cv[1],\n",
    "                          'Time (s)' : 'time',\n",
    "                          'Corrected Time' : 'Time (s)',\n",
    "                          'WE(1).Potential (V)' : col_cv[0]})\n",
    "\n",
    "df1['Current Density (µA/cm$^2$)'] = df1[col_cv[1]] / area\n",
    "\n"
   ]
  },
  {
   "cell_type": "code",
   "execution_count": 3,
   "metadata": {},
   "outputs": [],
   "source": [
    "###### PLOT Old LMO\n",
    "\n",
    "# dpi = 100\n",
    "# fig, ax = plt.subplots(dpi = dpi)\n",
    "# sns.scatterplot(x = df1[col_cv[0]], y = df1['Current Density (µA/cm$^2$)'], edgecolor = None, s = 3) #, color = 'tab:green')\n",
    "# ax.yaxis.set_major_formatter(formatter_1e6)\n",
    "# ax.grid()\n",
    "\n",
    "# capacity_cv(df1, dpi, area, thickness, 3250, 4660, True)\n",
    "# charge_cv(df1, dpi,  3250, 4660, True)\n",
    "# capacity_cv(df1, dpi, area, thickness, 4730, 6520, True)\n",
    "# charge_cv(df1, dpi, 4730, 6520, True)"
   ]
  },
  {
   "cell_type": "code",
   "execution_count": 4,
   "metadata": {},
   "outputs": [],
   "source": [
    "### New LMO\n",
    "\n",
    "area = np.pi\n",
    "thickness = 90\n",
    "\n",
    "path = r'C:\\Users\\lopezb41\\OneDrive - imec\\Documents\\Experiments\\Data\\Electrochemical\\2024\\24LSB01\\STD_CV\\CV'\n",
    "file = [os.path.join(path, i) for i in os.listdir(path)][0]\n",
    "df_n = pd.read_csv(file, sep = ';')\n",
    "df_n['Corrected Time'] = df_n['Time (s)'] - df_n['Time (s)'][0]\n",
    "df_n = df_n.rename(columns = {'WE(1).Current (A)' : col_cv[1],\n",
    "                          'Time (s)' : 'time',\n",
    "                          'Corrected Time' : 'Time(s)',\n",
    "                          'WE(1).Potential (V)' : col_cv[0]})\n",
    "\n",
    "df_n['Current Density (µA/cm$^2$)'] = df_n[col_cv[1]] / area\n",
    "\n",
    "# dpi = 100\n",
    "\n",
    "# scan = []\n",
    "\n",
    "# for i in df_n['Scan'].unique():\n",
    "#     df = df_n[df_n['Scan'] == i]\n",
    "#     scan.append(df)\n",
    "\n",
    "\n",
    "\n",
    "\n",
    "# for i in scan:\n",
    "#     fig, ax = plt.subplots()\n",
    "#     sns.scatterplot(x = i[col_cv[0]], y = i['Current Density (µA/cm$^2$)'], edgecolor = None, s = 3)\n",
    "#     ax.yaxis.set_major_formatter(formatter_1e6)\n",
    "\n",
    "\n",
    "# fig, ax = plt.subplots(dpi = dpi)\n",
    "# sns.scatterplot(data = df_n, x = col_cv[0], y = 'Current Density (µA/cm$^2$)', hue = 'Scan', edgecolor = None, s = 3) #, color = 'tab:green')\n",
    "# ax.yaxis.set_major_formatter(formatter_1e6)\n",
    "# ax.grid()\n",
    "# df_n\n"
   ]
  },
  {
   "cell_type": "code",
   "execution_count": 6,
   "metadata": {},
   "outputs": [],
   "source": [
    "# TiO2 capacity from CV\n",
    "#Total capacity Li2Mn2O4 1260 mAh/cm3\n",
    "\n",
    "path = r'C:\\Users\\lopezb41\\OneDrive - imec\\Documents\\Experiments\\Data\\Electrochemical\\2023\\ALD TiO2\\144cycles_ext\\1C\\CV'\n",
    "cv_path = [os.path.join(path, i) for i in os.listdir(path)]\n",
    "area = np.pi\n",
    "thickness = 90\n",
    "\n",
    "df = pd.read_csv(cv_path[0], sep = ';')\n",
    "df['Corrected Time'] = df['Time (s)'] - df['Time (s)'][0]\n",
    "df = df.rename(columns = {'WE(1).Current (A)' : col_cv[1],\n",
    "                          'Time (s)' : 'time',\n",
    "                          'Corrected Time' : 'Time (s)',\n",
    "                          'WE(1).Potential (V)' : col_cv[0]})\n",
    "df['Current Density (µA/cm$^2$)'] = df[col_cv[1]] / area\n",
    "\n",
    "# dpi = 200\n",
    "# ca = 6500\n",
    "# cb = 12700\n",
    "# fig, ax = plt.subplots(dpi = dpi)\n",
    "# sns.scatterplot(x = df[col_cv[0]][ca:cb], y = df['Current Density (µA/cm$^2$)'][ca:cb], edgecolor = None, s = 3, color = 'tab:orange')\n",
    "# ax.yaxis.set_major_formatter(formatter_1e6)\n",
    "\n",
    "# ax.grid()\n",
    "# charge_cv(df, dpi, 10, 1600, True)\n",
    "# charge_cv(df, dpi, 10, 2070, False)\n",
    "\n",
    "# charge_cv(df, dpi, 2070, 3750, True)\n",
    "# charge_cv(df, dpi, 2070, 4780, True)\n",
    "# charge_cv(df, dpi, 5020, 6100, False)\n",
    "# charge_cv(df, dpi, 6200, 7780, True)\n",
    "# charge_cv(df, dpi, 5100, 7780, True)\n",
    "\n",
    "# capacity_cv(df, dpi, area, 9, 5020, 6000, False)\n",
    "# plt.xlim(1.55, 2.75)\n"
   ]
  }
 ],
 "metadata": {
  "kernelspec": {
   "display_name": "Python 3",
   "language": "python",
   "name": "python3"
  },
  "language_info": {
   "codemirror_mode": {
    "name": "ipython",
    "version": 3
   },
   "file_extension": ".py",
   "mimetype": "text/x-python",
   "name": "python",
   "nbconvert_exporter": "python",
   "pygments_lexer": "ipython3",
   "version": "3.11.1"
  }
 },
 "nbformat": 4,
 "nbformat_minor": 2
}
