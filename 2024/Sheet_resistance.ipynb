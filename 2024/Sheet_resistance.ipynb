{
 "cells": [
  {
   "cell_type": "code",
   "execution_count": 2,
   "metadata": {},
   "outputs": [],
   "source": [
    "# Import methods\n",
    "\n",
    "%run Methods.ipynb"
   ]
  },
  {
   "cell_type": "code",
   "execution_count": 22,
   "metadata": {},
   "outputs": [
    {
     "data": {
      "text/html": [
       "<div>\n",
       "<style scoped>\n",
       "    .dataframe tbody tr th:only-of-type {\n",
       "        vertical-align: middle;\n",
       "    }\n",
       "\n",
       "    .dataframe tbody tr th {\n",
       "        vertical-align: top;\n",
       "    }\n",
       "\n",
       "    .dataframe thead th {\n",
       "        text-align: right;\n",
       "    }\n",
       "</style>\n",
       "<table border=\"1\" class=\"dataframe\">\n",
       "  <thead>\n",
       "    <tr style=\"text-align: right;\">\n",
       "      <th></th>\n",
       "      <th>Pt 10nm/ITO 100nm</th>\n",
       "      <th>ITO 100nm</th>\n",
       "      <th>Pt 30nm</th>\n",
       "      <th>Pt 100nm</th>\n",
       "      <th>Pt 10nm</th>\n",
       "    </tr>\n",
       "  </thead>\n",
       "  <tbody>\n",
       "    <tr>\n",
       "      <th>Mean</th>\n",
       "      <td>19.760000</td>\n",
       "      <td>102.588000</td>\n",
       "      <td>6.096200</td>\n",
       "      <td>1.575000</td>\n",
       "      <td>24.808000</td>\n",
       "    </tr>\n",
       "    <tr>\n",
       "      <th>STD</th>\n",
       "      <td>0.649954</td>\n",
       "      <td>4.226338</td>\n",
       "      <td>0.267794</td>\n",
       "      <td>0.086782</td>\n",
       "      <td>0.687762</td>\n",
       "    </tr>\n",
       "    <tr>\n",
       "      <th>Variance</th>\n",
       "      <td>0.422440</td>\n",
       "      <td>17.861936</td>\n",
       "      <td>0.071713</td>\n",
       "      <td>0.007531</td>\n",
       "      <td>0.473016</td>\n",
       "    </tr>\n",
       "  </tbody>\n",
       "</table>\n",
       "</div>"
      ],
      "text/plain": [
       "          Pt 10nm/ITO 100nm   ITO 100nm   Pt 30nm  Pt 100nm    Pt 10nm\n",
       "Mean              19.760000  102.588000  6.096200  1.575000  24.808000\n",
       "STD                0.649954    4.226338  0.267794  0.086782   0.687762\n",
       "Variance           0.422440   17.861936  0.071713  0.007531   0.473016"
      ]
     },
     "execution_count": 22,
     "metadata": {},
     "output_type": "execute_result"
    }
   ],
   "source": [
    "#nSheet resistance\n",
    "\n",
    "#Pt10nmITO100\n",
    "#autorange 10mA for pt10nmITO, Pt30nm\n",
    "#1mA for ITO \n",
    "# 99.999mA for pt 100nm\n",
    "# #ohm/sq\n",
    "pt10ito = [20.38, 20.69, 19.22, 19.08, 19.43]\n",
    "ito = [110.06, 101.83, 97.87, 99.51, 103.67]\n",
    "pt30 = [6.353, 5.917, 5.846, 5.880, 6.485]\n",
    "pt100 = [1.680, 1.682, 1.512, 1.508, 1.493]\n",
    "pt10 = [25.87, 24.47, 24.02, 25.34, 24.34]\n",
    "\n",
    "rs_dic = {'Pt 10nm/ITO 100nm' : pt10ito,\n",
    "      'ITO 100nm' : ito,\n",
    "      'Pt 30nm' : pt30,\n",
    "      'Pt 100nm' : pt100,\n",
    "      'Pt 10nm' : pt10}\n",
    "\n",
    "rs = pd.DataFrame(index=pd.Index(data=['Mean', 'STD', 'Variance']))\n",
    "\n",
    "for key, values in rs_dic.items():\n",
    "    rs[key] = [np.mean(values), np.std(values), np.var(values)]\n",
    "rs\n"
   ]
  },
  {
   "cell_type": "code",
   "execution_count": 23,
   "metadata": {},
   "outputs": [
    {
     "data": {
      "text/plain": [
       "[<matplotlib.lines.Line2D at 0x1fc33537610>]"
      ]
     },
     "execution_count": 23,
     "metadata": {},
     "output_type": "execute_result"
    },
    {
     "data": {
      "image/png": "[encoded data removed]",
      "text/plain": [
       "<Figure size 640x480 with 1 Axes>"
      ]
     },
     "metadata": {},
     "output_type": "display_data"
    }
   ],
   "source": [
    "x = [10, 30, 100]\n",
    "y = [24.808000, 6.096200, 1.575000]\n",
    "plt.plot(x, y)"
   ]
  }
 ],
 "metadata": {
  "kernelspec": {
   "display_name": "Python 3",
   "language": "python",
   "name": "python3"
  },
  "language_info": {
   "codemirror_mode": {
    "name": "ipython",
    "version": 3
   },
   "file_extension": ".py",
   "mimetype": "text/x-python",
   "name": "python",
   "nbconvert_exporter": "python",
   "pygments_lexer": "ipython3",
   "version": "3.11.1"
  }
 },
 "nbformat": 4,
 "nbformat_minor": 2
}
