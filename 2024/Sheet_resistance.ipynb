{
 "cells": [
  {
   "cell_type": "code",
   "execution_count": 1,
   "metadata": {},
   "outputs": [],
   "source": [
    "# Import methods\n",
    "\n",
    "%run Methods.ipynb"
   ]
  },
  {
   "cell_type": "code",
   "execution_count": 2,
   "metadata": {},
   "outputs": [],
   "source": [
    "#nSheet resistance\n",
    "\n",
    "#Pt10nmITO100\n",
    "#autorange 10mA for pt10nmITO, Pt30nm\n",
    "#1mA for ITO \n",
    "# 99.999mA for pt 100nm\n",
    "# #ohm/sq\n",
    "pt10ito = [20.38, 20.69, 19.22, 19.08, 19.43]\n",
    "ito = [110.06, 101.83, 97.87, 99.51, 103.67]\n",
    "pt30 = [6.353, 5.917, 5.846, 5.880, 6.485]\n",
    "pt100 = [1.680, 1.682, 1.512, 1.508, 1.493]"
   ]
  }
 ],
 "metadata": {
  "kernelspec": {
   "display_name": "Python 3",
   "language": "python",
   "name": "python3"
  },
  "language_info": {
   "codemirror_mode": {
    "name": "ipython",
    "version": 3
   },
   "file_extension": ".py",
   "mimetype": "text/x-python",
   "name": "python",
   "nbconvert_exporter": "python",
   "pygments_lexer": "ipython3",
   "version": "3.11.1"
  }
 },
 "nbformat": 4,
 "nbformat_minor": 2
}
