{
 "cells": [
  {
   "cell_type": "code",
   "execution_count": 1,
   "metadata": {},
   "outputs": [],
   "source": [
    "# Import methods\n",
    "\n",
    "%run Methods.ipynb"
   ]
  },
  {
   "cell_type": "code",
   "execution_count": 93,
   "metadata": {},
   "outputs": [],
   "source": [
    "### Deposition NanoSCE FEB\n",
    "\n",
    "# path = r'C:\\Users\\lopezb41\\OneDrive - imec\\Documents\\Experiments\\Data\\Electrochemical\\2024\\24Feb_NanoSCE\\19FEB'\n",
    "# df, samples = sce_dep(path)\n",
    "# sample_list = [0,3,6,9]\n",
    "# dep_plot(df, sample_list, False, 100)\n",
    "# dep_plot(df, sample_list, True, 100)"
   ]
  },
  {
   "cell_type": "code",
   "execution_count": 96,
   "metadata": {},
   "outputs": [],
   "source": [
    "#Pt10nm LMO CV and GC\n",
    "\n",
    "path = r'C:\\Users\\lopezb41\\OneDrive - imec\\Documents\\Experiments\\Data\\Electrochemical\\2024\\Pt10nm_LMO90nm\\Pt10_01'\n",
    "setup_files(path)\n",
    "area = np.pi * 0.5 **2\n",
    "thickness = 90\n",
    "sample = 'Pt10nm LMO 1C'\n",
    "pt10nm = cc(path, area, thickness, sample)"
   ]
  },
  {
   "cell_type": "code",
   "execution_count": 99,
   "metadata": {},
   "outputs": [],
   "source": [
    "# #### PLOT Pt10nm LMO\n",
    "\n",
    "# color_map = 'flare'\n",
    "# cv_plot(pt10nm[0], color_map, 100)\n",
    "# plt.grid()\n",
    "# cc_plot(pt10nm, color_map, 100)\n",
    "# plt.grid()\n",
    "# dq_dv_plot(pt10nm, color_map, 100)\n",
    "# plt.ylim(0, 400)"
   ]
  }
 ],
 "metadata": {
  "kernelspec": {
   "display_name": "Python 3",
   "language": "python",
   "name": "python3"
  },
  "language_info": {
   "codemirror_mode": {
    "name": "ipython",
    "version": 3
   },
   "file_extension": ".py",
   "mimetype": "text/x-python",
   "name": "python",
   "nbconvert_exporter": "python",
   "pygments_lexer": "ipython3",
   "version": "3.11.1"
  }
 },
 "nbformat": 4,
 "nbformat_minor": 2
}
