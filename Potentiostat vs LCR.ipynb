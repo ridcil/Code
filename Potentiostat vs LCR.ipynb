{
 "cells": [
  {
   "cell_type": "code",
   "execution_count": 1,
   "metadata": {},
   "outputs": [],
   "source": [
    "import os\n",
    "import numpy as np\n",
    "import pandas as pd\n",
    "import matplotlib.pyplot as plt\n",
    "from lmfit import Model\n",
    "from scipy.stats import linregress\n",
    "import seaborn as sns\n",
    "\n",
    "sns.set_theme(style=\"ticks\")\n",
    "palette = 'BuPu_r'\n",
    "dpi = 100\n",
    "sns.set_palette(palette)\n"
   ]
  },
  {
   "cell_type": "code",
   "execution_count": 201,
   "metadata": {},
   "outputs": [],
   "source": [
    "def r_t(s, r_s, l_t, N, W, L):\n",
    "    return (r_s * s / (N * W + (N-1) * (2 *s + L))) + (2 * r_s * l_t / (N * W + (N-1) * (2 *s + L)))\n",
    "gmodel5 = Model(r_t)\n",
    "param5 = gmodel5.make_params()\n",
    "param5['r_s'].set(value = 1e8, min = 0)\n",
    "param5['l_t'].set(value = 1e-5, min = 1e-5)\n",
    "param5['L'].set(value = 3200e-4, vary = False)\n",
    "param5['W'].set(value = 5e-4, vary = False)\n",
    "param5['N'].set(value = 60, vary = False)"
   ]
  },
  {
   "cell_type": "code",
   "execution_count": 202,
   "metadata": {},
   "outputs": [
    {
     "data": {
      "text/html": [
       "<div>\n",
       "<style scoped>\n",
       "    .dataframe tbody tr th:only-of-type {\n",
       "        vertical-align: middle;\n",
       "    }\n",
       "\n",
       "    .dataframe tbody tr th {\n",
       "        vertical-align: top;\n",
       "    }\n",
       "\n",
       "    .dataframe thead th {\n",
       "        text-align: right;\n",
       "    }\n",
       "</style>\n",
       "<table border=\"1\" class=\"dataframe\">\n",
       "  <thead>\n",
       "    <tr style=\"text-align: right;\">\n",
       "      <th></th>\n",
       "      <th>Contact Resistance</th>\n",
       "      <th>Sheet resistance</th>\n",
       "      <th>Conductivity ($\\Sigma$)</th>\n",
       "    </tr>\n",
       "  </thead>\n",
       "  <tbody>\n",
       "    <tr>\n",
       "      <th>0G_18</th>\n",
       "      <td>1412.492601</td>\n",
       "      <td>2.671024e+09</td>\n",
       "      <td>0.000019</td>\n",
       "    </tr>\n",
       "    <tr>\n",
       "      <th>0G_13</th>\n",
       "      <td>472.255482</td>\n",
       "      <td>8.930351e+08</td>\n",
       "      <td>0.000056</td>\n",
       "    </tr>\n",
       "  </tbody>\n",
       "</table>\n",
       "</div>"
      ],
      "text/plain": [
       "       Contact Resistance  Sheet resistance  Conductivity ($\\Sigma$)\n",
       "0G_18         1412.492601      2.671024e+09                 0.000019\n",
       "0G_13          472.255482      8.930351e+08                 0.000056"
      ]
     },
     "execution_count": 202,
     "metadata": {},
     "output_type": "execute_result"
    },
    {
     "data": {
      "image/png": "[encoded data removed]",
      "text/plain": [
       "<Figure size 432x288 with 1 Axes>"
      ]
     },
     "metadata": {},
     "output_type": "display_data"
    }
   ],
   "source": [
    "#0G_18 LCR measurement\n",
    "sns.set_theme(style=\"whitegrid\")\n",
    "path = r'C:\\Users\\lopezb41\\OneDrive - imec\\Documents\\Experiments\\Data\\Contact Resistance\\LSB_07\\0G_18\\C1'\n",
    "files = [os.path.join(path, i) for i in os.listdir(path)]\n",
    "cols = ['Spacing (cm)', 'Resistance ($\\Omega$)']\n",
    "a = pd.DataFrame(columns = cols) #, index = np.arange(0,len(files)))\n",
    "cols_r = ['Contact Resistance', 'Sheet resistance', 'Conductivity ($\\Sigma$)']\n",
    "results = pd.DataFrame(columns = cols_r)#, index = ['LCR', 'Pot'])\n",
    "n = 0\n",
    "for i in files:\n",
    "    df = pd.read_csv(i)\n",
    "    slope, intercept, r_value, p_value, std_err = linregress(df['Vds'], df['Idc'])\n",
    "    if i[-5:-4] == '1':\n",
    "        a.loc[n] = [2e-4,  1 / slope]\n",
    "    elif i[-5:-4] == '2':\n",
    "        a.loc[n] = [5e-4,  1 / slope]\n",
    "    elif i[-5:-4] == '3':\n",
    "        a.loc[n] = [10e-4,  1 / slope]\n",
    "    n += 1\n",
    "a.sort_values(by=[cols[0]], inplace = True)\n",
    "r = gmodel5.fit(a[cols[1]], param5, s = a[cols[0]]) #result\n",
    "plt.plot(a[cols[0]], r.best_fit)\n",
    "rc = gmodel5.eval(r.params, s = 0) # 2 times contact resistance\n",
    "l_t = r.best_values['l_t'] # transfer length\n",
    "r_s = r.best_values['r_s'] # sheet resistance\n",
    "sigma = 1 / (r_s * 0.2e-4)\n",
    "results.loc['0G_18'] = [rc/2, r_s, sigma]\n",
    "a['Sample'] = '0G_18'\n",
    "\n",
    "#0G_13 LCR\n",
    "path = r'C:\\Users\\lopezb41\\OneDrive - imec\\Documents\\Experiments\\Data\\Contact Resistance\\LSB_07\\LCR\\0G_13'\n",
    "files = [os.path.join(path, i) for i in os.listdir(path)]\n",
    "b = pd.DataFrame(columns = cols)\n",
    "n = 0\n",
    "for i in files:\n",
    "    df = pd.read_csv(i)\n",
    "    slope, intercept, r_value, p_value, std_err = linregress(df['Vds'], df['Idc'])\n",
    "    if i[-5:-4] == '1':\n",
    "        b.loc[n] = [2e-4,  1 / slope]\n",
    "    elif i[-5:-4] == '2':\n",
    "        b.loc[n] = [5e-4,  1 / slope]\n",
    "    elif i[-5:-4] == '3':\n",
    "        b.loc[n] = [10e-4,  1 / slope]\n",
    "    n += 1\n",
    "b.sort_values(by=[cols[0]], inplace = True)\n",
    "r2 = gmodel5.fit(b[cols[1]], param5, s = b[cols[0]])\n",
    "plt.plot(b[cols[0]], r2.best_fit)\n",
    "rc = gmodel5.eval(r2.params, s = 0) # 2 times contact resistance\n",
    "l_t = r2.best_values['l_t'] # transfer length\n",
    "r_s = r2.best_values['r_s'] # sheet resistance\n",
    "sigma = 1 / (r_s * 0.2e-4)\n",
    "results.loc['0G_13'] = [rc/2, r_s, sigma]\n",
    "b['Sample'] = '0G_13'\n",
    "ab = pd.concat([a,b])\n",
    "\n",
    "sns.scatterplot(data = ab, x = cols[0], y = cols[1], hue = 'Sample')\n",
    "results.head()\n"
   ]
  },
  {
   "cell_type": "code",
   "execution_count": null,
   "metadata": {},
   "outputs": [],
   "source": [
    "#0G_18 potentiostat\n",
    "\n",
    "path = r''\n"
   ]
  }
 ],
 "metadata": {
  "kernelspec": {
   "display_name": "Python 3",
   "language": "python",
   "name": "python3"
  },
  "language_info": {
   "codemirror_mode": {
    "name": "ipython",
    "version": 3
   },
   "file_extension": ".py",
   "mimetype": "text/x-python",
   "name": "python",
   "nbconvert_exporter": "python",
   "pygments_lexer": "ipython3",
   "version": "3.9.13"
  },
  "orig_nbformat": 4,
  "vscode": {
   "interpreter": {
    "hash": "07efca2f57058c8396287c06e71748f56c683db983d28c5eca359ebc2a15da43"
   }
  }
 },
 "nbformat": 4,
 "nbformat_minor": 2
}
