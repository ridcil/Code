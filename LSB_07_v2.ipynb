{
 "cells": [
  {
   "cell_type": "code",
   "execution_count": null,
   "metadata": {},
   "outputs": [],
   "source": [
    "import os\n",
    "import numpy as np\n",
    "import pandas as pd\n",
    "import matplotlib.pyplot as plt\n",
    "import seaborn as sns\n",
    "from lmfit import Model\n",
    "\n",
    "from scipy.stats import linregress\n",
    "from contact_resistance_v2 import idea\n",
    "\n",
    "sns.set_theme(style = 'ticks', palette = 'Set1') #'Set1', 'Pastel1', 'Dark2'"
   ]
  },
  {
   "attachments": {},
   "cell_type": "markdown",
   "metadata": {},
   "source": [
    "Fit and plot Spacing vs Resistance per sample"
   ]
  },
  {
   "cell_type": "code",
   "execution_count": null,
   "metadata": {},
   "outputs": [],
   "source": [
    "path_aut = r'C:\\Users\\lopezb41\\OneDrive - imec\\Documents\\Experiments\\Data\\Contact Resistance\\LSB_07\\0G_33'\n",
    "path_save = r'C:\\Users\\lopezb41\\OneDrive - imec\\Documents\\Experiments\\Data\\Contact Resistance\\LSB_07\\Results'\n",
    "sample = path_aut[-5:]\n",
    "files_aut = [os.path.join(path_aut, i) for i in os.listdir(path_aut)]\n",
    "\n",
    "rt, tlm, val = idea.fit(files_aut, 180, sample)\n",
    "\n",
    "fig, ax = plt.subplots(dpi = 200)\n",
    "# sns.lineplot(data = tlm, x = 'Spacing ($\\mu$m)', y = 'Resistance (M$\\Omega$)', errorbar = 'sd', marker = 'o', linestyle = '', err_style='bars', label = 'Data') #, style = 'Column')\n",
    "sns.scatterplot(data = tlm, x = 'Spacing ($\\mu$m)', y = 'Resistance (M$\\Omega$)')#, style = 'Column')\n",
    "sns.lineplot(data = tlm, x = 'Spacing ($\\mu$m)', y = 'Fit', label = 'Fit') #, hue = 'Column')\n",
    "ax.xaxis.set_major_formatter(lambda x, pos: '{:.1f}'.format(x * 1e4))\n",
    "ax.yaxis.set_major_formatter(lambda x, pos: '{:.0f}'.format(x / 1e6))\n",
    "plt.title(sample)\n",
    "\n",
    "# tlm.to_csv(os.path.join(path_save, sample + '.txt'), sep = ';', index = False)\n",
    "# val.to_csv(os.path.join(path_save, 'val_' + sample + '.txt'), sep = ';', index = False)\n",
    "\n",
    "display(tlm)\n",
    "# display(rt)\n",
    "display(val)\n",
    "\n",
    "# fig, ax = plt.subplots(dpi = 200)\n",
    "# sns.lineplot(data = rt, x = 'Potential (V)', y = 'Current (A)', hue = 'Structure', errorbar='sd', style = 'Column')\n",
    "# ax.yaxis.set_major_formatter(lambda x, pos: '{:.2f}'.format(x * 1e6))\n",
    "# ax.set_ylabel('Current ($\\mu$A)')\n",
    "# ax.set_title(sample)\n",
    "# plt.legend(ncol = 2)"
   ]
  },
  {
   "attachments": {},
   "cell_type": "markdown",
   "metadata": {},
   "source": [
    "Lets put the samples together"
   ]
  },
  {
   "cell_type": "code",
   "execution_count": null,
   "metadata": {},
   "outputs": [],
   "source": [
    "path_results = r'C:\\Users\\lopezb41\\OneDrive - imec\\Documents\\Experiments\\Data\\Contact Resistance\\LSB_07\\Results_to_show'\n",
    "files_r = [os.path.join(path_results, i) for i in os.listdir(path_results)]\n",
    "col = [\t'Spacing ($\\mu$m)',\t'Resistance (M$\\Omega$)',\t'Column',\t'Fit',\t'Sample'] # fix the scale since the label of resistance is in M\n",
    "col_v = ['Sheet resistance ($\\Omega$/sq)', 'Contact resistance ($\\Omega$/sq)', 'Conductivity (S/cm)', 'Column', 'Sample' ]\n",
    "df_values = pd.DataFrame()\n",
    "df_results = pd.DataFrame()\n",
    "for i in files_r:\n",
    "    if 'val' in i:\n",
    "        df_v = pd.read_csv(i, sep = ';')\n",
    "        df_values = pd.concat([df_values, df_v])  \n",
    "    else:\n",
    "        df = pd.read_csv(i, sep = ';')\n",
    "        df_results = pd.concat([df_results, df])\n",
    "\n",
    "df_results = df_results.sort_values(by = ['Sample'])\n",
    "df_results.reset_index(inplace = True, drop=True)\n",
    "df_values.reset_index(inplace = True, drop=True)\n",
    "\n",
    "fig, ax = plt.subplots(dpi = 200)\n",
    "sns.lineplot(data = df_results, x = col[0], y = col[1], hue = col[4], legend = None, marker = 'o', markersize = 10, linestyle = '', err_style='bars', errorbar='sd')\n",
    "sns.lineplot(data = df_results, x = col[0], y = col[3], hue = 'Sample', errorbar = 'ci')   #, hue = col[4], style = col[4])\n",
    "ax.xaxis.set_major_formatter(lambda x, pos: '{:.1f}'.format(x * 1e4)) # fixed\n",
    "# ax.yaxis.set_major_formatter(lambda x, pos: '{:.0f}'.format(x / 1e6))\n",
    "ax.set_ylabel('Resistance ($\\Omega$)')\n",
    "h, l = plt.gca().get_legend_handles_labels()\n",
    "# h_r, l_r = list(reversed(h)), list(reversed(l))\n",
    "ax.legend(fontsize = 10, title = 'Sample')\n",
    "\n",
    "fig, ax = plt.subplots(dpi = 200, ncols=2, figsize = [10,5])\n",
    "fig.tight_layout(pad = 5)\n",
    "df_values = df_values.sort_values(by=['Sample']) # sort by column\n",
    "sns.barplot(data = df_values, x = 'Sample', y = col_v[2], ax = ax[0], errorbar='sd', yerr = 0) #, hue = 'Column')\n",
    "sns.barplot(data = df_values, x = 'Sample', y = col_v[1], ax = ax[1], errorbar= 'sd') #, hue = 'Column')\n",
    "# ax[0].legend(fontsize = 7)\n",
    "# ax[1].legend(fontsize = 7)\n",
    "ax[1].yaxis.set_major_formatter(lambda x, pos: '{:.0e}'.format(x))\n",
    "\n",
    "\n",
    "# display(df_values)\n",
    "\n"
   ]
  }
 ],
 "metadata": {
  "kernelspec": {
   "display_name": "Python 3",
   "language": "python",
   "name": "python3"
  },
  "language_info": {
   "codemirror_mode": {
    "name": "ipython",
    "version": 3
   },
   "file_extension": ".py",
   "mimetype": "text/x-python",
   "name": "python",
   "nbconvert_exporter": "python",
   "pygments_lexer": "ipython3",
   "version": "3.11.1"
  },
  "orig_nbformat": 4,
  "vscode": {
   "interpreter": {
    "hash": "74b955679ae62e8a1bbc259be985f1f65e0492ed4bafc6ff6388a79af7be0082"
   }
  }
 },
 "nbformat": 4,
 "nbformat_minor": 2
}
