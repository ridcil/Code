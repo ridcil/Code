{
 "cells": [
  {
   "cell_type": "code",
   "execution_count": 1,
   "metadata": {},
   "outputs": [],
   "source": [
    "import os\n",
    "import numpy as np\n",
    "import pandas as pd\n",
    "import matplotlib.pyplot as plt\n",
    "import seaborn as sns\n",
    "from lmfit import Model"
   ]
  },
  {
   "cell_type": "code",
   "execution_count": 2,
   "metadata": {},
   "outputs": [],
   "source": [
    "# Functions\n",
    "\n",
    "def line(x, m, b):\n",
    "    return x * m + b\n",
    "\n",
    "def tlm(s, r_s, N, w, L, r_c):\n",
    "    return ((r_s * s) / (2 * N * (w + L + s) - L - s)) + (2 * r_c)\n",
    "\n",
    "def tlm2(s, r_s, N, w, L, l_t):\n",
    "    return (r_s / (2 * N * (w + L + s) - L - s)) * (s + 2 * l_t)\n",
    "\n",
    "def w_contact(s, N, w, L):\n",
    "    return (2 * N * (w + L + s)) - L - s\n",
    "    \n",
    "idea2 = {'P01': 2e-4,\n",
    "         'P02': 5e-4,\n",
    "         'P03': 10e-4,\n",
    "         'P04' : 20e-4\n",
    "         }"
   ]
  },
  {
   "cell_type": "code",
   "execution_count": 3,
   "metadata": {},
   "outputs": [],
   "source": [
    "# Models\n",
    "\n",
    "line_mod = Model(line)\n",
    "line_params = line_mod.make_params()\n",
    "line_params['m'].set(value = 1)\n",
    "line_params['b'].set(value = 1)\n",
    "\n",
    "# Not considering L_t transfer lenght\n",
    "tlm_mod = Model(tlm)\n",
    "tlm_params = tlm_mod.make_params()\n",
    "tlm_params['r_s'].set(value = 1e6)\n",
    "tlm_params['N'].set(value = 60, vary = False)\n",
    "tlm_params['w'].set(value = 5e-4, vary = False)\n",
    "tlm_params['L'].set(value = 3200e-4, vary = False)\n",
    "tlm_params['r_c'].set(value = 1)\n",
    "\n",
    "# Considering L_t to get \\rho_c Contact Resistivity\n",
    "tlm_mod2 = Model(tlm2)\n",
    "tlm2_params = tlm_mod2.make_params()\n",
    "tlm2_params['r_s'].set(value = 1e6)\n",
    "tlm2_params['N'].set(value = 60, vary = False)\n",
    "tlm2_params['w'].set(value = 5e-4, vary = False)\n",
    "tlm2_params['L'].set(value = 3200e-4, vary = False)\n",
    "tlm2_params['l_t'].set(value = 1, min = 0)\n",
    "\n"
   ]
  },
  {
   "cell_type": "code",
   "execution_count": 17,
   "metadata": {},
   "outputs": [],
   "source": [
    "# Function to process data\n",
    "\n",
    "def C_R(path):\n",
    "    \n",
    "    files = [os.path.join(path, i) for i in os.listdir(path)]\n",
    "    col = ['Potential (V)', 'Current (A)', 'Time (s)']\n",
    "    col2 = ['Structure', 'Spacing (cm)', 'Resistance ($\\Omega$)']\n",
    "    iv_val = pd.DataFrame(columns = col2)\n",
    "\n",
    "    n = 0\n",
    "    for i in files:\n",
    "        df = pd.read_csv(i, sep = ';', skiprows = 1, names = col)\n",
    "        line_fit = line_mod.fit(df[col[1]], line_params, x = df[col[0]])\n",
    "        resistance = 1 / line_fit.values['m']\n",
    "\n",
    "        \n",
    "        \n",
    "        for j in idea2.keys():\n",
    "            if j in i:\n",
    "                iv_val.loc[n] = (j, idea2[j], resistance)\n",
    "        n += 1\n",
    "\n",
    "    width_ = (w_contact(iv_val[col2[1]], 60, 5e-4, 3200e-4))\n",
    "    width_avg = width_.mean()\n",
    "\n",
    "    # tlm_fit = tlm_mod.fit(iv_val[col2[2]], tlm_params, s = iv_val[col2[1]])\n",
    "    # print(tlm_fit.fit_report())\n",
    "\n",
    "    # # Plot\n",
    "    # sns.scatterplot(data = iv_val, x = col2[1], y = col2[2])\n",
    "    # plt.plot(iv_val[col2[1]], tlm_fit.best_fit)\n",
    "\n",
    "    tlm_fit2 = tlm_mod2.fit(iv_val[col2[2]], tlm2_params, s = iv_val[col2[1]])\n",
    "    print(tlm_fit2.fit_report())\n",
    "    rc = tlm_mod2.eval(tlm_fit2.params, s = 0) / 2\n",
    "    lt = tlm_fit2.values['l_t']\n",
    "    p_c = rc * lt * width_avg #Contact resistiviy ohm * cm^2\n",
    "\n",
    "    # Plot\n",
    "    sns.scatterplot(data = iv_val, x = col2[1], y = col2[2], label = 'Data')\n",
    "    plt.plot(iv_val[col2[1]], tlm_fit2.best_fit, 'tab:orange', label = 'Fit')\n",
    "    plt.legend()\n",
    "    # print(width_)\n",
    "    print('Contact Resistivity = ' + str(p_c) + ' Ohm cm2')\n"
   ]
  },
  {
   "cell_type": "code",
   "execution_count": 18,
   "metadata": {},
   "outputs": [
    {
     "name": "stdout",
     "output_type": "stream",
     "text": [
      "[[Model]]\n",
      "    Model(tlm2)\n",
      "[[Fit Statistics]]\n",
      "    # fitting method   = leastsq\n",
      "    # function evals   = 237\n",
      "    # data points      = 15\n",
      "    # variables        = 2\n",
      "    chi-square         = 4.2272e+12\n",
      "    reduced chi-square = 3.2517e+11\n",
      "    Akaike info crit   = 399.467544\n",
      "    Bayesian info crit = 400.883644\n",
      "    R-squared          = 0.92836616\n",
      "[[Variables]]\n",
      "    r_s:  1.1387e+11 +/- 8.7456e+09 (7.68%) (init = 1000000)\n",
      "    N:    60 (fixed)\n",
      "    w:    0.0005 (fixed)\n",
      "    L:    0.32 (fixed)\n",
      "    l_t:  7.4895e-05 +/- 4.5682e-05 (60.99%) (init = 1)\n",
      "[[Correlations]] (unreported correlations are < 0.100)\n",
      "    C(r_s, l_t) = -0.841\n",
      "Contact Resistivity = 640.4376929283235 Ohm cm2\n"
     ]
    },
    {
     "data": {
      "image/png": "[encoded data removed]",
      "text/plain": [
       "<Figure size 640x480 with 1 Axes>"
      ]
     },
     "metadata": {},
     "output_type": "display_data"
    }
   ],
   "source": [
    "# 0G_37\n",
    "# Potentiostat\n",
    "path = r'C:\\Users\\lopezb41\\OneDrive - imec\\Documents\\Experiments\\Data\\Contact Resistance\\LSB_07\\0G_37\\AUT'\n",
    "C_R(path)"
   ]
  },
  {
   "cell_type": "code",
   "execution_count": null,
   "metadata": {},
   "outputs": [],
   "source": []
  }
 ],
 "metadata": {
  "kernelspec": {
   "display_name": "Python 3",
   "language": "python",
   "name": "python3"
  },
  "language_info": {
   "codemirror_mode": {
    "name": "ipython",
    "version": 3
   },
   "file_extension": ".py",
   "mimetype": "text/x-python",
   "name": "python",
   "nbconvert_exporter": "python",
   "pygments_lexer": "ipython3",
   "version": "3.11.1"
  },
  "orig_nbformat": 4
 },
 "nbformat": 4,
 "nbformat_minor": 2
}
