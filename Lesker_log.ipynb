{
 "cells": [
  {
   "cell_type": "code",
   "execution_count": 1,
   "metadata": {},
   "outputs": [],
   "source": [
    "import os\n",
    "import numpy as np\n",
    "import pandas as pd\n",
    "import matplotlib.pyplot as plt\n",
    "from pathlib import Path\n",
    "import statistics as sts\n",
    "import lmfit\n",
    "from lmfit import Model\n",
    "from scipy.stats import sem\n",
    "from matplotlib import markers\n",
    "import seaborn as sns\n",
    "\n",
    "from datetime import datetime\n",
    "\n",
    "sns.set_theme(style=\"ticks\")\n"
   ]
  },
  {
   "cell_type": "code",
   "execution_count": 5,
   "metadata": {},
   "outputs": [
    {
     "data": {
      "text/plain": [
       "<AxesSubplot:xlabel='Time', ylabel='Power Supply 5 Voltage'>"
      ]
     },
     "execution_count": 5,
     "metadata": {},
     "output_type": "execute_result"
    },
    {
     "data": {
      "image/png": "[encoded data removed]",
      "text/plain": [
       "<Figure size 300x200 with 2 Axes>"
      ]
     },
     "metadata": {},
     "output_type": "display_data"
    }
   ],
   "source": [
    "path = r'C:\\Users\\lopezb41\\OneDrive - imec\\Desktop\\LSB_09 Annealsys test 2022.12.20-12.19.12.csv'\n",
    "format_string = '%b-%d-%Y %I:%M:%S.%f %p'\n",
    "fig, ax = plt.subplots(facecolor = 'white', dpi = 50)\n",
    "\n",
    "df = pd.read_csv(path, skiprows = 3)\n",
    "df['Time'] = [datetime.strptime(i, format_string) for i in df['Time Stamp']]\n",
    "\n",
    "sns.lineplot(data = df, x = df['Time'], y = 'Power Supply 5 Current')\n",
    "ax2 = plt.twinx()\n",
    "sns.lineplot(data = df, x = df['Time'], y = 'Power Supply 5 Voltage', ax = ax2, color ='tab:orange')\n"
   ]
  }
 ],
 "metadata": {
  "kernelspec": {
   "display_name": "Python 3",
   "language": "python",
   "name": "python3"
  },
  "language_info": {
   "codemirror_mode": {
    "name": "ipython",
    "version": 3
   },
   "file_extension": ".py",
   "mimetype": "text/x-python",
   "name": "python",
   "nbconvert_exporter": "python",
   "pygments_lexer": "ipython3",
   "version": "3.9.13"
  },
  "orig_nbformat": 4,
  "vscode": {
   "interpreter": {
    "hash": "07efca2f57058c8396287c06e71748f56c683db983d28c5eca359ebc2a15da43"
   }
  }
 },
 "nbformat": 4,
 "nbformat_minor": 2
}
