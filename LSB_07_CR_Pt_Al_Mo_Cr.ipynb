{
 "cells": [
  {
   "cell_type": "code",
   "execution_count": 1,
   "metadata": {},
   "outputs": [],
   "source": [
    "import os\n",
    "import numpy as np\n",
    "import pandas as pd\n",
    "import matplotlib.pyplot as plt\n",
    "from pathlib import Path\n",
    "import statistics as sts\n",
    "from lmfit import Model\n",
    "from scipy.stats import sem"
   ]
  },
  {
   "cell_type": "code",
   "execution_count": 6,
   "metadata": {},
   "outputs": [
    {
     "name": "stdout",
     "output_type": "stream",
     "text": [
      "c:\\Users\\lopezb41\\OneDrive - imec\\Documents\\Experiments\\Data\\Contact Resistance\n"
     ]
    }
   ],
   "source": [
    "# Questions\n",
    "# save = input('Save?')\n",
    "# f = input('Include linear fit?')\n",
    "\n",
    "# Variables for names and files\n",
    "mask = 'IDEA2 '\n",
    "metal = 'Al'\n",
    "resist = 'LMO_LORIX'\n",
    "sample = '0G_12 '\n",
    "#path = os.path.join(Path.cwd().parent.parent, 'Contact Resistance', 'LSB_07', 'LCR', 'csv', mask + metal, resist)\n",
    "#dir = os.listdir(path)\n",
    "\n",
    "data_path = os.path.join(Path.cwd().parent, 'Experiments', 'Data', 'Contact Resistance'))\n",
    "\n",
    "#Check if folder for linear fits exists\n",
    "# plot_folder = os.path.join(Path.cwd().parent.parent, 'Contact Resistance', 'LSB_07', 'LCR', 'Plots', mask + metal, resist)\n",
    "# if 'Fit' not in os.listdir(plot_folder):\n",
    "#     os.mkdir(os.path.join(plot_folder, 'Fit'))\n",
    "\n",
    "# # Linear Fit\n",
    "# def line(x, m, b):\n",
    "#     return x * m + b\n",
    "# gmodel = Model(line)\n",
    "# param = gmodel.make_params()\n",
    "\n",
    "# # Get dictionary of data DC, Idc and Vds. Plot data and linear fit.\n",
    "# dict = {}\n",
    "# for i in dir:\n",
    "#     # Get data\n",
    "#     data = pd.read_csv(os.path.join(path,i))\n",
    "#     dict[i] = (data['DC'], data['Idc'], data['Vds'])\n",
    "\n",
    "#     # Plot \n",
    "#     fig, ax = plt.subplots(dpi = 400, facecolor = 'white')\n",
    "#     ax.set_title(mask + metal + ' on LMO ' + sample + i[:-4])\n",
    "#     ax.set_xlabel('Potential Vds (V)')\n",
    "#     ax.set_ylabel('Current Ids (A)')\n",
    "#     ax.scatter(dict[i][2], dict[i][1], s = 1, label = 'Measurement')\n",
    "#     ax.legend(markerscale = 5)\n",
    "#     if save == 'y':\n",
    "#         plt.savefig(os.path.join(Path.cwd().parent.parent, 'Contact Resistance', 'LSB_07', 'LCR', 'Plots', mask + metal, resist, i[:-4]) + '.png', facecolor = 'white',  bbox_inches='tight')\n",
    "#     plt.clf()\n",
    "\n",
    "#     #Plot with linear fit\n",
    "#     if f == 'y':\n",
    "#         result = gmodel.fit(dict[i][1], param, m = 1, b = 1, x = dict[i][2])\n",
    "#         slope = result.values['m']\n",
    "#         resistance = 1/slope\n",
    "#         r_square = 1 - result.residual.var() / np.var(dict[i][1])\n",
    "\n",
    "#         fig, ax = plt.subplots(dpi = 400, facecolor = 'white')\n",
    "#         ax.set_title(mask + metal + ' on LMO ' + sample + i[:-4])\n",
    "#         ax.set_xlabel('Potential Vds (V)')\n",
    "#         ax.set_ylabel('Current Ids (A)')\n",
    "#         ax.scatter(dict[i][2], dict[i][1], s = 1, label = 'Measurement')\n",
    "#         ax.plot(dict[i][2], result.best_fit, 'k', alpha = 0.5, label = 'Linear Fit')\n",
    "#         ax.plot([],[], ' ', label = '{:.2f}'.format(resistance) + ' $\\Omega$')\n",
    "#         ax.plot([],[], ' ', label = 'r$^2$ = ' + '{:.5f}'.format(r_square))\n",
    "#         ax.legend(markerscale = 5)\n",
    "#         if save == 'y':\n",
    "#             plt.savefig(os.path.join(Path.cwd().parent.parent, 'Contact Resistance', 'LSB_07', 'LCR', 'Plots', mask + metal, resist, 'Fit', i[:-4]) + '_fit.png', facecolor = 'white',  bbox_inches='tight')\n",
    "#     plt.clf()"
   ]
  }
 ],
 "metadata": {
  "kernelspec": {
   "display_name": "Python 3.9.13 64-bit (microsoft store)",
   "language": "python",
   "name": "python3"
  },
  "language_info": {
   "codemirror_mode": {
    "name": "ipython",
    "version": 3
   },
   "file_extension": ".py",
   "mimetype": "text/x-python",
   "name": "python",
   "nbconvert_exporter": "python",
   "pygments_lexer": "ipython3",
   "version": "3.9.13"
  },
  "orig_nbformat": 4,
  "vscode": {
   "interpreter": {
    "hash": "07efca2f57058c8396287c06e71748f56c683db983d28c5eca359ebc2a15da43"
   }
  }
 },
 "nbformat": 4,
 "nbformat_minor": 2
}
