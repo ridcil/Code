{
 "cells": [
  {
   "cell_type": "code",
   "execution_count": null,
   "metadata": {},
   "outputs": [],
   "source": [
    "import os\n",
    "import numpy as np\n",
    "import pandas as pd\n",
    "import matplotlib.pyplot as plt\n",
    "from pathlib import Path\n",
    "import statistics as sts\n",
    "from lmfit import Model\n",
    "from scipy.stats import sem"
   ]
  },
  {
   "cell_type": "code",
   "execution_count": null,
   "metadata": {},
   "outputs": [],
   "source": [
    "# Questions\n",
    "# save = input('Save?')\n",
    "# f = input('Include linear fit?')\n",
    "\n",
    "# Variables for names and files\n",
    "split = 'LSB_07'\n",
    "metals = {'0G_13': 'Pt',\n",
    "          '0G_14' : 'Al',\n",
    "          '0G_15' : 'Mo',\n",
    "          '0G_16' : 'Cr',\n",
    "        }\n",
    "\n",
    "# Linear Fit\n",
    "def line(x, m, b):\n",
    "    return x * m + b\n",
    "gmodel = Model(line)\n",
    "param = gmodel.make_params()\n",
    "\n",
    "# Folder where the files are\n",
    "data_path = os.path.join(Path.cwd().parent, 'Experiments', 'Data', 'Contact Resistance', split, 'LCR')\n",
    "dict = {}\n",
    "r_dict = {}\n",
    "row_names = []\n",
    "for i in os.listdir(data_path):\n",
    "    files = os.listdir(os.path.join(data_path, i))\n",
    "    for j in files:\n",
    "        row_names.append(i + ' ' + j[:-4])\n",
    "        data = pd.read_csv(os.path.join(data_path, i, j))\n",
    "        dict[i] = (data['DC'], data['Idc'], data['Vds'])\n",
    "        fig, ax = plt.subplots(dpi = 400, facecolor = 'white')\n",
    "        ax.set_title(metals[i] + ' ' + i + ' ' + j[:-4])\n",
    "        ax.set_xlabel('Potential Vds (V)')\n",
    "        ax.set_ylabel('Current Ids (A)')\n",
    "        ax.scatter(dict[i][2], dict[i][1], s = 1)\n",
    "\n",
    "        result = gmodel.fit(dict[i][1], param, m = 1, b = 1, x = dict[i][2])\n",
    "        resistance = np.round(1 / result.values['m'], decimals = 2)\n",
    "        r_square = 1 - result.residual.var() / np.var(dict[i][1])\n",
    "        r_dict[metals[i] + ' ' + j[:-4]] = (float(resistance))\n",
    "\n",
    "        ax.plot(dict[i][2], result.best_fit, alpha = 0.5, label = 'Linear Fit')\n",
    "        ax.plot([],[], ' ', label = '{:.2f}'.format(resistance) + ' $\\Omega$')\n",
    "        ax.plot([],[], ' ', label = 'r$^2$ = ' + '{:.5f}'.format(r_square))\n",
    "        \n",
    "        ax.legend(markerscale = 5)\n",
    "    print(metals[i])"
   ]
  },
  {
   "cell_type": "code",
   "execution_count": null,
   "metadata": {},
   "outputs": [],
   "source": [
    "\n",
    "resistance_table = pd.DataFrame(list(r_dict.items()), columns = ['Sample', 'Resistance (Ω)'])#, index = row_names)\n",
    "fig, ax = plt.subplots(dpi = 400)\n",
    "ax.axis('off')\n",
    "t = ax.table(cellText=resistance_table.values, cellLoc='center', colLabels= ['Sample', 'Resistance ($\\Omega$)'])"
   ]
  },
  {
   "cell_type": "code",
   "execution_count": null,
   "metadata": {},
   "outputs": [],
   "source": [
    "fig, ax = plt.subplots(dpi = 200, facecolor = 'white')\n",
    "x = [1,2,3,4]\n",
    "for i in resistance_table.values:\n",
    "    if i[1] > 100:\n",
    "        if 'P04' in i[0]:\n",
    "            ax.bar(i[0], i[1])\n",
    "    plt.xticks(rotation='vertical')"
   ]
  },
  {
   "cell_type": "code",
   "execution_count": null,
   "metadata": {},
   "outputs": [],
   "source": []
  }
 ],
 "metadata": {
  "kernelspec": {
   "display_name": "Python 3.9.13 64-bit (microsoft store)",
   "language": "python",
   "name": "python3"
  },
  "language_info": {
   "codemirror_mode": {
    "name": "ipython",
    "version": 3
   },
   "file_extension": ".py",
   "mimetype": "text/x-python",
   "name": "python",
   "nbconvert_exporter": "python",
   "pygments_lexer": "ipython3",
   "version": "3.9.13"
  },
  "orig_nbformat": 4,
  "vscode": {
   "interpreter": {
    "hash": "07efca2f57058c8396287c06e71748f56c683db983d28c5eca359ebc2a15da43"
   }
  }
 },
 "nbformat": 4,
 "nbformat_minor": 2
}
