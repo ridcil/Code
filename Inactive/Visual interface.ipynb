{
 "cells": [
  {
   "cell_type": "code",
   "execution_count": 6,
   "metadata": {},
   "outputs": [],
   "source": [
    "import tkinter as tk\n",
    "import numpy as np\n",
    "from random import randint\n",
    "import pandas as pd\n",
    "import seaborn as sns\n",
    "import matplotlib.pyplot as plt\n",
    "from matplotlib.backends.backend_tkagg import FigureCanvasTkAgg\n",
    "import matplotlib.dates as mdates\n",
    "from datetime import datetime\n",
    "# from tkinter.ttk import *\n",
    "from tkinter import filedialog as fd\n",
    "\n",
    "class App():\n",
    "    \n",
    "    def __init__(self, master):\n",
    "        self.frame = tk.Frame(master,borderwidth=2, relief='groove')\n",
    "        self.file_path = tk.filedialog.askopenfilename()\n",
    "        # self.path = r'C:\\Users\\lopezb41\\OneDrive - imec\\Desktop\\LSB_09 Annealsys test 2022.12.20-12.19.12.csv'\n",
    "        # self.format_string = '%b-%d-%Y %I:%M:%S.%f %p'\n",
    "        # self.fig, self.ax = plt.subplots(facecolor = 'white', dpi = 100)\n",
    "        # self.lw = 1\n",
    "        # self.df = pd.read_csv(self.path, skiprows = 3)\n",
    "        # self.df['Time'] = [datetime.strptime(i, self.format_string) for i in self.df['Time Stamp']]\n",
    "        # self.ax = sns.lineplot(data = self.df, x = self.df['Time'], y = 'Power Supply 5 Current', lw = self.lw, label = 'Current')\n",
    "        # self.ax2 = plt.twinx()\n",
    "        # self.ax2 = sns.lineplot(data = self.df, x = self.df['Time'], y = 'Power Supply 5 Voltage', ax = self.ax2, lw = self.lw, label = 'Voltage', color = 'tab:orange')\n",
    "        # self.ax.xaxis.set_major_formatter(mdates.DateFormatter(\"%H:%M\"))\n",
    "        # self.ax.legend(frameon = False, loc = 2)\n",
    "        # self.ax2.legend(frameon = False, loc = 1)\n",
    "    \n",
    "def select_file():\n",
    "    filetypes = ( ('text files', '*.txt'), ('All files', '*.*') )\n",
    "\n",
    "    filename = fd.askopenfilename( title='Open a file', initialdir='/', filetypes=filetypes)\n",
    "\n",
    "    tk.showinfo( title='Selected File', message=filename )\n",
    "\n",
    "\n",
    "\n",
    "# Create tk space\n",
    "root = tk.Tk()\n",
    "root.wm_title('Lesker Log')\n",
    "root.geometry('300x150')\n",
    "lab = tk.Label(root)\n",
    "lab.pack()\n",
    "\n",
    "# App(root)\n",
    "\n",
    "# open button\n",
    "open_button = tk.ttk.Button( root, text='Open a File', command = select_file )\n",
    "\n",
    "open_button.pack()#expand=True)\n",
    "\n",
    "\n",
    "\n",
    "#Create widget for plot\n",
    "# canvas = FigureCanvasTkAgg(fig, master=root)  # A tk.DrawingArea.\n",
    "# canvas.draw()\n",
    "# canvas.get_tk_widget().pack(side=tk.TOP, fill=tk.BOTH, expand=True)\n",
    "#Buttons\n",
    "button_quit = tk.Button(master=root, text=\"Quit\", command=root.destroy)\n",
    "button_save = tk.Button(master=root, text=\"Save\", command=root.destroy)\n",
    "button_quit.pack()#side=tk.BOTTOM)\n",
    "button_save.pack()#side=tk.BOTTOM)\n",
    "#add \"open file for path\"\n",
    "\n",
    "root.mainloop()"
   ]
  }
 ],
 "metadata": {
  "kernelspec": {
   "display_name": "Python 3",
   "language": "python",
   "name": "python3"
  },
  "language_info": {
   "codemirror_mode": {
    "name": "ipython",
    "version": 3
   },
   "file_extension": ".py",
   "mimetype": "text/x-python",
   "name": "python",
   "nbconvert_exporter": "python",
   "pygments_lexer": "ipython3",
   "version": "3.11.1 (tags/v3.11.1:a7a450f, Dec  6 2022, 19:58:39) [MSC v.1934 64 bit (AMD64)]"
  },
  "orig_nbformat": 4,
  "vscode": {
   "interpreter": {
    "hash": "74b955679ae62e8a1bbc259be985f1f65e0492ed4bafc6ff6388a79af7be0082"
   }
  }
 },
 "nbformat": 4,
 "nbformat_minor": 2
}
