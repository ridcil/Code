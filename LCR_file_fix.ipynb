{
 "cells": [
  {
   "cell_type": "code",
   "execution_count": 3,
   "metadata": {},
   "outputs": [],
   "source": [
    "import os\n",
    "import pandas as pd"
   ]
  },
  {
   "cell_type": "code",
   "execution_count": 41,
   "metadata": {},
   "outputs": [],
   "source": [
    "\n",
    "path = r'C:\\Users\\lopezb41\\OneDrive - imec\\Documents\\Experiments\\Data\\Contact Resistance\\LSB_07\\0G_14 pending\\C1_P04\\raw'\n",
    "values = {'DC' : [],\n",
    "          'Idc': [],\n",
    "          'Vds': []\n",
    "        }\n",
    "for i in os.listdir(path):\n",
    "    data = pd.read_csv(os.path.join(path, i), names = ['Freq', 'Vdc', 'Idc', 'DC'], skiprows = 2)\n",
    "    vds, idc, dc = data['Vdc'][0], data['Idc'][0], data['DC'][0]\n",
    "    if idc < 100:  \n",
    "      values['Vds'].append(vds)\n",
    "      values['Idc'].append(idc)\n",
    "      values['DC'].append(dc)\n",
    "\n",
    "df = pd.DataFrame(values)\n",
    "\n",
    "to_save = r'C:\\Users\\lopezb41\\OneDrive - imec\\Documents\\Experiments\\Data\\Contact Resistance\\LSB_07\\0G_14 pending\\C1_P04'\n",
    "df.to_csv(os.path.join(to_save, 'C1_P04.txt'), index = False)"
   ]
  }
 ],
 "metadata": {
  "kernelspec": {
   "display_name": "Python 3.9.13 64-bit (microsoft store)",
   "language": "python",
   "name": "python3"
  },
  "language_info": {
   "codemirror_mode": {
    "name": "ipython",
    "version": 3
   },
   "file_extension": ".py",
   "mimetype": "text/x-python",
   "name": "python",
   "nbconvert_exporter": "python",
   "pygments_lexer": "ipython3",
   "version": "3.9.13"
  },
  "orig_nbformat": 4,
  "vscode": {
   "interpreter": {
    "hash": "07efca2f57058c8396287c06e71748f56c683db983d28c5eca359ebc2a15da43"
   }
  }
 },
 "nbformat": 4,
 "nbformat_minor": 2
}
