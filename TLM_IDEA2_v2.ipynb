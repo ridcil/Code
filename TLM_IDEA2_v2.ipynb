{
 "cells": [
  {
   "cell_type": "code",
   "execution_count": 1,
   "metadata": {},
   "outputs": [],
   "source": [
    "import os\n",
    "import numpy as np\n",
    "import pandas as pd\n",
    "import matplotlib.pyplot as plt\n",
    "import seaborn as sns\n",
    "from lmfit import Model\n",
    "import matplotlib.ticker as ticker"
   ]
  },
  {
   "cell_type": "code",
   "execution_count": 2,
   "metadata": {},
   "outputs": [],
   "source": [
    "# Functions\n",
    "\n",
    "def line(x, m, b):\n",
    "    return x * m + b\n",
    "\n",
    "def tlm(s, r_s, N, w, L, r_c):\n",
    "    return ((r_s * s) / (2 * N * (w + L + s) - L - s)) + (2 * r_c)\n",
    "\n",
    "def tlm2(s, r_s, N, w, L, l_t):\n",
    "    return (r_s / (2 * N * (w + L + s) - L - s)) * (s + 2 * l_t)\n",
    "\n",
    "def w_contact(s, N, w, L):\n",
    "    return (2 * N * (w + L + s)) - L - s"
   ]
  },
  {
   "cell_type": "code",
   "execution_count": 3,
   "metadata": {},
   "outputs": [],
   "source": [
    "# Models\n",
    "\n",
    "line_mod = Model(line)\n",
    "line_params = line_mod.make_params(m = 1, b = 1)\n",
    "\n",
    "# Considering L_t to get \\rho_c Contact Resistivity\n",
    "tlm_mod2 = Model(tlm2)\n",
    "tlm2_params = tlm_mod2.make_params()\n",
    "tlm2_params['r_s'].set(value = 1e6)\n",
    "tlm2_params['N'].set(value = 60, vary = False)\n",
    "tlm2_params['w'].set(value = 5e-4, vary = False)\n",
    "tlm2_params['L'].set(value = 3200e-4, vary = False)\n",
    "tlm2_params['l_t'].set(value = 1e-5, min = 0)"
   ]
  },
  {
   "cell_type": "code",
   "execution_count": 4,
   "metadata": {},
   "outputs": [],
   "source": [
    "# Settings\n",
    "\n",
    "col = ['Potential (V)', 'Current (A)', 'Time (s)']\n",
    "col2 = ['Structure', 'Spacing (cm)', 'Resistance ($\\Omega$)', 'Device']\n",
    "idea2 = {'P01': 2e-4,\n",
    "         'P02': 5e-4,\n",
    "         'P03': 10e-4,\n",
    "         'P04' : 20e-4\n",
    "         }\n",
    "\n",
    "formatter = ticker.FuncFormatter(lambda x, pos: \"{:.1f}\".format(x / 1e6))\n",
    "formatter_1 = ticker.FuncFormatter(lambda x, pos: \"{:.1f}\".format(x * 1e4))\n",
    "formatter_2 = ticker.FuncFormatter(lambda x, pos: \"{:.1f}\".format(x * 1e6))\n",
    "formatter_3 = ticker.FuncFormatter(lambda x, pos: \"{:.1f}\".format(x / 1e3))\n",
    "\n",
    "palette = 'viridis'"
   ]
  },
  {
   "cell_type": "code",
   "execution_count": 5,
   "metadata": {},
   "outputs": [],
   "source": [
    "# Function to process data\n",
    "\n",
    "def C_R(path, thickness, sample):\n",
    "    \n",
    "    files = [os.path.join(path, i) for i in os.listdir(path)]\n",
    "    iv_val = pd.DataFrame(columns = col2)\n",
    "    iv_df = pd.DataFrame()\n",
    "    n = 0\n",
    "    for i in files:\n",
    "        directory, filename = os.path.split(i)\n",
    "        df = pd.read_csv(i, sep = ';', skiprows = 1, names = col)\n",
    "        df['Device'] = filename[:-4]\n",
    "        # df['dI/dV'] = np.gradient(df[col[1]], df[col[0]])\n",
    "        \n",
    "        for structure in idea2.keys():\n",
    "            if structure in filename:\n",
    "                df['Spacing ($\\mu$m)'] = idea2[structure] *1e4\n",
    "        \n",
    "        line_fit = line_mod.fit(df[col[1]], line_params, x = df[col[0]])\n",
    "        slope = line_fit.values['m']\n",
    "        resistance = 1 / slope\n",
    "        \n",
    "        for j in idea2.keys():\n",
    "            if j in filename:\n",
    "                iv_val.loc[n] = (j, idea2[j], resistance, filename[:-4])\n",
    "                \n",
    "                \n",
    "        # df['Norm dI/dV'] = df['dI/dV'] / slope\n",
    "        iv_df = pd.concat([iv_df, df], ignore_index = True)\n",
    "        \n",
    "        n += 1\n",
    "    iv_df['Sample'] = sample\n",
    "    iv_val['Sample'] = sample\n",
    "    # print(iv_df)\n",
    "\n",
    "    width_ = (w_contact(iv_val[col2[1]], 60, 5e-4, 3200e-4))\n",
    "    width_avg = width_.mean()\n",
    "\n",
    "    all_avg = pd.DataFrame()\n",
    "    u_s = iv_val.Structure.unique()\n",
    "    df_dict = {i : pd.DataFrame() for i in u_s}\n",
    "    \n",
    "    for key in df_dict.keys():\n",
    "        df_dict[key] = iv_val[:][iv_val.Structure == key]\n",
    "        \n",
    "    for key, df in df_dict.items():\n",
    "        mean_ = df.mean(numeric_only = True).reset_index().transpose()\n",
    "        mean_.columns = mean_.iloc[0]\n",
    "        mean_ = mean_[1:].reset_index(drop=True)\n",
    "        all_avg = pd.concat([all_avg, mean_], ignore_index = True)\n",
    "    \n",
    "    \n",
    "    tlm_fit2 = tlm_mod2.fit(all_avg[col2[2]], tlm2_params, s = all_avg[col2[1]])   \n",
    "    # using the average for the fit. Same values, lower numerical error \n",
    "    # tlm_fit2 = tlm_mod2.fit(iv_val[col2[2]], tlm2_params, s = iv_val[col2[1]])\n",
    "    \n",
    "    # print(tlm_fit2.fit_report())\n",
    "    rc = tlm_mod2.eval(tlm_fit2.params, s = 0) / 2\n",
    "    lt = tlm_fit2.values['l_t']\n",
    "    p_c = rc * lt * width_avg #Contact resistiviy ohm * cm^2\n",
    "    # sigma = (1 / tlm_fit2.values['r_s'] ) / (thickness * 1e-7 * width_avg)\n",
    "    sigma = 1 / (tlm_fit2.values['r_s'] * thickness * 1e-7)\n",
    "    r_s = tlm_fit2.values['r_s']\n",
    "\n",
    "    print('Contact Resistivity = ' + str(p_c) + ' Ohm cm2')\n",
    "    print('LMO conductivity = ' + str(sigma) + ' S/cm')\n",
    "    \n",
    "    \n",
    "    # Plot\n",
    "    fig, ax = plt.subplots(1, 2, figsize = (15,5), dpi = 200) #    1, 2, figsize = (15,5),\n",
    "    \n",
    "    cross_zero = np.array([-2, 0, 20]) * 1e-4\n",
    "    y_zero = tlm_mod2.eval(tlm_fit2.params, s = cross_zero)\n",
    "    \n",
    "    sns.lineplot(data = iv_val, x = col2[1], y = col2[2], marker='o', markersize = 10,errorbar=('sd', 2) ,err_style='bars', linestyle='', err_kws={'ecolor': 'black', 'capsize': 2})\n",
    "    sns.lineplot(x = cross_zero, y = y_zero)\n",
    "    #lineplot with error bars showing 2 STD\n",
    "    \n",
    "    plt.axhline(0, color='gray', linestyle='--', linewidth=0.5)  # Horizontal zero line\n",
    "    plt.axvline(0, color='gray', linestyle='--', linewidth=0.5)  # Vertical zero line\n",
    "    \n",
    "    ax[1].set_xlabel('Electrode Spacing (µm)')\n",
    "    ax[1].set_ylabel('Resistance ($\\Omega$)')\n",
    "    # ax[1].yaxis.set_major_formatter(formatter)\n",
    "    ax[1].xaxis.set_major_formatter(formatter_1)\n",
    "    #\n",
    "    sns.scatterplot(data = iv_val, x = col2[1], y = col2[2], ax = ax[0])\n",
    "    \n",
    "    fig, ax = plt.subplots(dpi = 200)\n",
    "    sns.lineplot(data = iv_df, x = 'Potential (V)', y = 'Current (A)', hue = 'Spacing ($\\mu$m)')\n",
    "    ax.yaxis.set_major_formatter(formatter_2)\n",
    "    ax.set_ylabel('Current ($\\mu$A)')\n",
    "    \n",
    "    fit_vals = pd.DataFrame({'Sheet Resistance' : [r_s],\n",
    "                'Contact Resistance' : [rc],\n",
    "                'Transfer Lenght' : [lt],\n",
    "                'Contact Resistivity' : [p_c],\n",
    "                'Conductivity' : [sigma],\n",
    "                'Sample' : [sample]})\n",
    "    \n",
    "    result = iv_val, tlm_fit2, fit_vals, iv_df\n",
    "    \n",
    "    return result"
   ]
  },
  {
   "cell_type": "code",
   "execution_count": null,
   "metadata": {},
   "outputs": [],
   "source": [
    "# TI2_03 LMO 8h Pt\n",
    "path = r'C:\\Users\\lopezb41\\OneDrive - imec\\Documents\\Experiments\\Data\\Contact Resistance\\IDEA2_TLM\\LMO8h_Pt'\n",
    "sample = 'LMO 350nm/Pt 100nm'\n",
    "lmo8h_pt = C_R(path, 350, sample) # , lmo8h_pt_fit, lmo8h_pt_fit_vals, lmo8h_pt_iv_curves\n",
    "print(lmo8h_pt[1].fit_report())"
   ]
  },
  {
   "cell_type": "code",
   "execution_count": null,
   "metadata": {},
   "outputs": [],
   "source": [
    "#LMO8h Pt Sample 2\n",
    "path = r'C:\\Users\\lopezb41\\OneDrive - imec\\Documents\\Experiments\\Data\\Contact Resistance\\IDEA2_TLM\\LMO8h_Pt_20231029'\n",
    "sample = 'LMO 350nm/Pt 100nm 2'\n",
    "lmo8h_pt2 = C_R(path, 350, sample)\n",
    "print(lmo8h_pt2[1].fit_report())"
   ]
  },
  {
   "cell_type": "code",
   "execution_count": null,
   "metadata": {},
   "outputs": [],
   "source": [
    "# LMO8h Pt 1 and 2\n",
    "path = r'C:\\Users\\lopezb41\\OneDrive - imec\\Documents\\Experiments\\Data\\Contact Resistance\\IDEA2_TLM\\LMO8h_Pt_1_2'\n",
    "sample = 'Pt'\n",
    "lmo8h_pt12 = C_R(path, 350, sample)\n",
    "print(lmo8h_pt12[1].fit_report())\n"
   ]
  },
  {
   "cell_type": "code",
   "execution_count": null,
   "metadata": {},
   "outputs": [],
   "source": [
    "#LMO8h ITO\n",
    "path = r'C:\\Users\\lopezb41\\OneDrive - imec\\Documents\\Experiments\\Data\\Contact Resistance\\IDEA2_TLM\\LMO8h_ITO_20231029'\n",
    "sample = 'ITO'\n",
    "lmo8h_ito = C_R(path, 350, sample)\n",
    "print(lmo8h_ito[1].fit_report())"
   ]
  },
  {
   "cell_type": "code",
   "execution_count": null,
   "metadata": {},
   "outputs": [],
   "source": [
    "# LMO8h Au\n",
    "path = r'C:\\Users\\lopezb41\\OneDrive - imec\\Documents\\Experiments\\Data\\Contact Resistance\\IDEA2_TLM\\LMO8h_Au_20231106\\1'\n",
    "sample = 'LMO 350/Au'\n",
    "lmo8h_au = C_R(path, 350, sample)\n",
    "print(lmo8h_au[1].fit_report())\n"
   ]
  },
  {
   "cell_type": "code",
   "execution_count": null,
   "metadata": {},
   "outputs": [],
   "source": [
    "# LMO8h Au2\n",
    "path = r'C:\\Users\\lopezb41\\OneDrive - imec\\Documents\\Experiments\\Data\\Contact Resistance\\IDEA2_TLM\\LMO8h_Au_20231106\\2'\n",
    "sample = 'Au'\n",
    "lmo8h_au2 = C_R(path, 350, sample)\n",
    "print(lmo8h_au2[1].fit_report())\n"
   ]
  },
  {
   "cell_type": "code",
   "execution_count": null,
   "metadata": {},
   "outputs": [],
   "source": [
    "# # LMO8h Au 1 2\n",
    "# path = r'C:\\Users\\lopezb41\\OneDrive - imec\\Documents\\Experiments\\Data\\Contact Resistance\\IDEA2_TLM\\LMO8h_Au_20231106\\both'\n",
    "# sample = 'LMO 350/Au'\n",
    "# lmo8h_au12 = C_R(path, 350, sample)\n",
    "# print(lmo8h_au12[1].fit_report())"
   ]
  },
  {
   "cell_type": "code",
   "execution_count": null,
   "metadata": {},
   "outputs": [],
   "source": [
    "# LMO8h Al\n",
    "path = r'C:\\Users\\lopezb41\\OneDrive - imec\\Documents\\Experiments\\Data\\Contact Resistance\\IDEA2_TLM\\LMO8h_Al_220231106'\n",
    "sample = 'Al'\n",
    "lmo8h_al = C_R(path, 350, sample)\n",
    "\n",
    "df5um = lmo8h_al[3].loc[lmo8h_al[3]['Spacing ($\\\\mu$m)'] == 5.0]\n"
   ]
  },
  {
   "cell_type": "code",
   "execution_count": null,
   "metadata": {},
   "outputs": [],
   "source": [
    "fig, ax = plt.subplots(dpi = 100)\n",
    "sns.lineplot(data = df5um, x = 'Potential (V)', y = 'Current (A)')\n",
    "ax.yaxis.set_major_formatter(formatter_2)\n",
    "ax.set_ylabel('Current (µA)')"
   ]
  },
  {
   "cell_type": "code",
   "execution_count": null,
   "metadata": {},
   "outputs": [],
   "source": [
    "# LMO8h Cr\n",
    "path = r'C:\\Users\\lopezb41\\OneDrive - imec\\Documents\\Experiments\\Data\\Contact Resistance\\IDEA2_TLM\\LMO8h_Cr'\n",
    "sample = 'Cr'\n",
    "lmo8h_cr = C_R(path, 350, sample)\n",
    "print(lmo8h_cr[1].fit_report())"
   ]
  },
  {
   "cell_type": "code",
   "execution_count": null,
   "metadata": {},
   "outputs": [],
   "source": [
    "# LMO8h Mo\n",
    "path = r'C:\\Users\\lopezb41\\OneDrive - imec\\Documents\\Experiments\\Data\\Contact Resistance\\IDEA2_TLM\\LMO8h_Mo'\n",
    "sample = 'Mo'\n",
    "lmo8h_mo = C_R(path, 350, sample)\n",
    "print(lmo8h_mo[1].fit_report())"
   ]
  },
  {
   "cell_type": "code",
   "execution_count": null,
   "metadata": {},
   "outputs": [],
   "source": [
    "# Compare\n",
    "# sns.set_palette('Set2')\n",
    "fig, ax = plt.subplots(dpi = 200)\n",
    "samples = [lmo8h_pt12, lmo8h_ito, lmo8h_au2, lmo8h_cr, lmo8h_mo]\n",
    "vals = pd.DataFrame()\n",
    "fit_v = pd.DataFrame()\n",
    "cross_zero = np.array([-2, 0, 20]) * 1e-4\n",
    "for i in samples:\n",
    "    vals = pd.concat([vals, i[0]], ignore_index = True)\n",
    "    fit_v = pd.concat([fit_v, i[2]], ignore_index = True)\n",
    "    y_zero = tlm_mod2.eval(i[1].params, s = cross_zero)\n",
    "    sns.lineplot(x = cross_zero, y = y_zero)\n",
    "sns.lineplot(data = vals, x = col2[1], y = col2[2], hue = 'Sample', marker='o', markersize = 8, errorbar='sd',err_style='bars', linestyle='', legend = False) #, err_kws={'ecolor': 'red', 'capsize': 2}\n",
    "plt.axhline(0, color='gray', linestyle='--', linewidth=0.5)  # Horizontal zero line\n",
    "plt.axvline(0, color='gray', linestyle='--', linewidth=0.5)  # Vertical zero \n",
    "# ax.legend(False)\n",
    "ax.xaxis.set_major_formatter(formatter_1)\n",
    "ax.yaxis.set_major_formatter(formatter_3)\n",
    "ax.set_xlabel('Spacing (µm)')\n",
    "ax.set_ylabel('Resistance (k$\\Omega$)')\n",
    "\n",
    "\n",
    "# fig, ax = plt.subplots(2, 2, figsize = (15,10), dpi = 100)\n",
    "fig, ax = plt.subplots(dpi = 200)\n",
    "# sns.barplot(data = fit_v, x = 'Sample', y = 'Conductivity', ax = ax[0,0])\n",
    "sns.barplot(data = fit_v, x = 'Sample', y = 'Contact Resistivity')\n",
    "plt.ylabel('Specific Contact Resistance ($\\Omega$ cm$^2$)')\n",
    "plt.xlabel('Metal')\n",
    "# ax[0,0].set_xticklabels(ax[0,0].get_xticklabels(), rotation=15)\n",
    "# ax[0,1].set_xticklabels(ax[0,0].get_xticklabels(), rotation=15)\n",
    "# sns.barplot(data = fit_v)\n"
   ]
  }
 ],
 "metadata": {
  "kernelspec": {
   "display_name": "Python 3",
   "language": "python",
   "name": "python3"
  },
  "language_info": {
   "codemirror_mode": {
    "name": "ipython",
    "version": 3
   },
   "file_extension": ".py",
   "mimetype": "text/x-python",
   "name": "python",
   "nbconvert_exporter": "python",
   "pygments_lexer": "ipython3",
   "version": "3.11.1"
  }
 },
 "nbformat": 4,
 "nbformat_minor": 2
}
