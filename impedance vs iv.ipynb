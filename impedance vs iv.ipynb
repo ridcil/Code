{
 "cells": [
  {
   "cell_type": "code",
   "execution_count": 3,
   "metadata": {},
   "outputs": [],
   "source": [
    "import os\n",
    "import numpy as np\n",
    "import pandas as pd\n",
    "import matplotlib.pyplot as plt\n",
    "import seaborn as sns\n",
    "from lmfit import Model\n",
    "\n",
    "from scipy.stats import linregress"
   ]
  },
  {
   "cell_type": "code",
   "execution_count": 4,
   "metadata": {},
   "outputs": [],
   "source": [
    "# MODEL\n",
    "def r_t(s, r_s, l_t, N, W, L):\n",
    "    return (r_s * s / (N * W + (N-1) * (2 *s + L))) + (2 * r_s * l_t / (N * W + (N-1) * (2 *s + L)))\n",
    "\n",
    "#Create model and parameters\n",
    "gmodel5 = Model(r_t)\n",
    "param5 = gmodel5.make_params()\n",
    "param5['r_s'].set(value = 1e10, min = 0)\n",
    "param5['l_t'].set(value = 1, min = 0)\n",
    "param5['L'].set(value = 3200e-4, vary = False)\n",
    "param5['W'].set(value = 5e-4, vary = False)\n",
    "param5['N'].set(value = 60, vary = False)"
   ]
  },
  {
   "cell_type": "code",
   "execution_count": 6,
   "metadata": {},
   "outputs": [],
   "source": [
    "s = np.array([2, 5, 10, 20]) * 1e-4\n",
    "w = 5e-4\n",
    "n = 60\n",
    "l = 3200e-4\n",
    "\n",
    "plt.plot(s, r_t(s, ))"
   ]
  },
  {
   "cell_type": "code",
   "execution_count": null,
   "metadata": {},
   "outputs": [],
   "source": [
    "#####"
   ]
  },
  {
   "cell_type": "code",
   "execution_count": null,
   "metadata": {},
   "outputs": [],
   "source": [
    "path = r'C:\\Users\\lopezb41\\OneDrive - imec\\Desktop\\Impedance vs IV\\0G_34\\potentiostat'\n",
    "files = [os.path.join(path, i) for i in os.listdir(path)]\n",
    "for i in files:\n",
    "    df = pd.read_csv(i, sep = ';')\n",
    "    slope, intercept, rvalue, pvalue, stderr = linregress(df['Potential applied (V)'], df['WE(1).Current (A)'])\n",
    "    print(1 / slope)\n"
   ]
  }
 ],
 "metadata": {
  "kernelspec": {
   "display_name": "Python 3",
   "language": "python",
   "name": "python3"
  },
  "language_info": {
   "codemirror_mode": {
    "name": "ipython",
    "version": 3
   },
   "file_extension": ".py",
   "mimetype": "text/x-python",
   "name": "python",
   "nbconvert_exporter": "python",
   "pygments_lexer": "ipython3",
   "version": "3.11.1"
  },
  "orig_nbformat": 4
 },
 "nbformat": 4,
 "nbformat_minor": 2
}
