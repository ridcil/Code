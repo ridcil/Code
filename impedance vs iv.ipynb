{
 "cells": [
  {
   "cell_type": "code",
   "execution_count": 5,
   "metadata": {},
   "outputs": [],
   "source": [
    "import os\n",
    "import numpy as np\n",
    "import pandas as pd\n",
    "import matplotlib.pyplot as plt\n",
    "import seaborn as sns\n",
    "\n",
    "from scipy.stats import linregress"
   ]
  },
  {
   "cell_type": "code",
   "execution_count": 7,
   "metadata": {},
   "outputs": [
    {
     "name": "stdout",
     "output_type": "stream",
     "text": [
      "255177.71376870046\n"
     ]
    }
   ],
   "source": [
    "path = r'C:\\Users\\lopezb41\\OneDrive - imec\\Desktop\\Impedance vs IV\\0G_34\\potentiostat'\n",
    "files = [os.path.join(path, i) for i in os.listdir(path)]\n",
    "for i in files:\n",
    "    df = pd.read_csv(i, sep = ';')\n",
    "    slope, intercept, rvalue, pvalue, stderr = linregress(df['Potential applied (V)'], df['WE(1).Current (A)'])\n",
    "    print(1 / slope)\n"
   ]
  }
 ],
 "metadata": {
  "kernelspec": {
   "display_name": "Python 3",
   "language": "python",
   "name": "python3"
  },
  "language_info": {
   "codemirror_mode": {
    "name": "ipython",
    "version": 3
   },
   "file_extension": ".py",
   "mimetype": "text/x-python",
   "name": "python",
   "nbconvert_exporter": "python",
   "pygments_lexer": "ipython3",
   "version": "3.11.1"
  },
  "orig_nbformat": 4
 },
 "nbformat": 4,
 "nbformat_minor": 2
}
