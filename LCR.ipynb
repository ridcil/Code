{
 "cells": [
  {
   "cell_type": "code",
   "execution_count": 7,
   "metadata": {},
   "outputs": [],
   "source": [
    "import os\n",
    "from pathlib import Path\n",
    "import statistics\n",
    "import numpy as np\n",
    "import pandas as pd\n",
    "import matplotlib.pyplot as plt\n",
    "from lmfit import Model\n",
    "from IPython.display import display\n",
    "from matplotlib.patches import ConnectionPatch\n",
    "from pandas.plotting import table\n",
    "\n",
    "from scipy.interpolate import splrep, splev\n",
    "from scipy.stats import sem"
   ]
  },
  {
   "cell_type": "code",
   "execution_count": 8,
   "metadata": {},
   "outputs": [
    {
     "ename": "KeyError",
     "evalue": "'C4_P08.txt'",
     "output_type": "error",
     "traceback": [
      "\u001b[1;31m---------------------------------------------------------------------------\u001b[0m",
      "\u001b[1;31mKeyError\u001b[0m                                  Traceback (most recent call last)",
      "\u001b[1;32mc:\\Users\\lopezb41\\OneDrive - imec\\Documents\\Experiments\\Data\\Code\\Electrochemical measurements\\LCR.ipynb Cell 2\u001b[0m in \u001b[0;36m<module>\u001b[1;34m\u001b[0m\n\u001b[0;32m     <a href='vscode-notebook-cell:/c%3A/Users/lopezb41/OneDrive%20-%20imec/Documents/Experiments/Data/Code/Electrochemical%20measurements/LCR.ipynb#W1sZmlsZQ%3D%3D?line=21'>22</a>\u001b[0m param \u001b[39m=\u001b[39m gmodel\u001b[39m.\u001b[39mmake_params()\n\u001b[0;32m     <a href='vscode-notebook-cell:/c%3A/Users/lopezb41/OneDrive%20-%20imec/Documents/Experiments/Data/Code/Electrochemical%20measurements/LCR.ipynb#W1sZmlsZQ%3D%3D?line=23'>24</a>\u001b[0m \u001b[39m# Result of fit. Get resistance, inverse of slope. get r^2\u001b[39;00m\n\u001b[1;32m---> <a href='vscode-notebook-cell:/c%3A/Users/lopezb41/OneDrive%20-%20imec/Documents/Experiments/Data/Code/Electrochemical%20measurements/LCR.ipynb#W1sZmlsZQ%3D%3D?line=24'>25</a>\u001b[0m result \u001b[39m=\u001b[39m gmodel\u001b[39m.\u001b[39mfit(\u001b[39mdict\u001b[39;49m[file][\u001b[39m1\u001b[39m], param, m \u001b[39m=\u001b[39m \u001b[39m1\u001b[39m, b \u001b[39m=\u001b[39m \u001b[39m1\u001b[39m, x \u001b[39m=\u001b[39m \u001b[39mdict\u001b[39m[file][\u001b[39m2\u001b[39m])\n\u001b[0;32m     <a href='vscode-notebook-cell:/c%3A/Users/lopezb41/OneDrive%20-%20imec/Documents/Experiments/Data/Code/Electrochemical%20measurements/LCR.ipynb#W1sZmlsZQ%3D%3D?line=25'>26</a>\u001b[0m slope \u001b[39m=\u001b[39m result\u001b[39m.\u001b[39mvalues[\u001b[39m'\u001b[39m\u001b[39mm\u001b[39m\u001b[39m'\u001b[39m]\n\u001b[0;32m     <a href='vscode-notebook-cell:/c%3A/Users/lopezb41/OneDrive%20-%20imec/Documents/Experiments/Data/Code/Electrochemical%20measurements/LCR.ipynb#W1sZmlsZQ%3D%3D?line=26'>27</a>\u001b[0m resistance \u001b[39m=\u001b[39m \u001b[39m1\u001b[39m\u001b[39m/\u001b[39mslope\n",
      "\u001b[1;31mKeyError\u001b[0m: 'C4_P08.txt'"
     ]
    }
   ],
   "source": [
    "# Variables for names and files\n",
    "mask = 'IDEA2 '\n",
    "metal = 'Al'\n",
    "resist = 'LMO_IX'\n",
    "sample = '0G_11 '\n",
    "folder = 'C4_P08'\n",
    "name = mask + metal + ' on LMO ' + sample + folder\n",
    "file = folder + '.txt'\n",
    "path = os.path.join(Path.cwd().parent.parent, 'Contact Resistance', 'LSB_07', 'LCR', 'csv', mask + metal, resist)\n",
    "dir = os.listdir(path)\n",
    "\n",
    "# Get dictionary of data DC, Idc and Vds\n",
    "dict = {}\n",
    "for i in dir:\n",
    "    data = pd.read_csv(os.path.join(path,i))\n",
    "    dict[i] = (data['DC'], data['Idc'], data['Vds'])\n",
    "\n",
    "# Linear Fit\n",
    "def line(x, m, b):\n",
    "    return x * m + b\n",
    "gmodel = Model(line)\n",
    "param = gmodel.make_params()\n",
    "\n",
    "# Result of fit. Get resistance, inverse of slope. get r^2\n",
    "result = gmodel.fit(dict[file][1], param, m = 1, b = 1, x = dict[file][2])\n",
    "slope = result.values['m']\n",
    "resistance = 1/slope\n",
    "r_square = 1 - result.residual.var() / np.var(dict[file][1])\n",
    "\n",
    "# Plot\n",
    "fig, ax = plt.subplots(dpi = 400, facecolor = 'white')\n",
    "ax.set_title(name)\n",
    "ax.set_xlabel('Potential Vds (V)')\n",
    "ax.set_ylabel('Current Ids (A)')\n",
    "ax.scatter(dict[file][0], dict[file][1], s = 1, label = 'Measurement')\n",
    "\n",
    "\n",
    "# Fit line and extra info to add in the legend\n",
    "# ax.plot(dict[file][0], result.best_fit, 'k', alpha = 0.5, label = 'Linear Fit')\n",
    "# ax.plot([],[], ' ', label = '{:.2f}'.format(resistance) + ' $\\Omega$')\n",
    "# ax.plot([],[], ' ', label = 'r$^2$ = ' + '{:.5f}'.format(r_square))\n",
    "\n",
    "# To plot all files in folder\n",
    "# mark = ['.', 'v', 's', '*', 'x', 'D'] \n",
    "# dir.sort(reverse = True)\n",
    "# count = 1\n",
    "# for i in dir:\n",
    "    # res = gmodel.fit(dict[i][1], param, m = 1, b = 1, x = dict[i][2])\n",
    "    # ax.scatter(dict[i][2], dict[i][1], s = 5)#, label = i[:-4])\n",
    "    # ax.plot(dict[i][2], dict[i][1])#, label = i[:-4])\n",
    "    # ax.plot(dict[i][2], res.best_fit, 'k', alpha = 0.5, lw = 0.8)\n",
    "    \n",
    "ax.legend(markerscale = 5)\n",
    "\n",
    "#Save plot\n",
    "# plt.savefig(os.path.join(Path.cwd().parent.parent, 'Contact Resistance', 'LSB_07', 'LCR', 'Plots', mask + metal, 'IX', name) + '.png', facecolor = 'white',  bbox_inches='tight')\n"
   ]
  },
  {
   "cell_type": "code",
   "execution_count": null,
   "metadata": {},
   "outputs": [
    {
     "data": {
      "text/plain": [
       "<Figure size 2400x1600 with 0 Axes>"
      ]
     },
     "metadata": {},
     "output_type": "display_data"
    },
    {
     "data": {
      "text/plain": [
       "<Figure size 2400x1600 with 0 Axes>"
      ]
     },
     "metadata": {},
     "output_type": "display_data"
    }
   ],
   "source": [
    "#Copy of previous cell improved for all files in folder\n",
    "\n",
    "# Questions\n",
    "save = input('Save?')\n",
    "f = input('Include linear fit?')\n",
    "\n",
    "# Variables for names and files\n",
    "mask = 'IDEA2 '\n",
    "metal = 'Al'\n",
    "resist = 'LMO_LORIX'\n",
    "sample = '0G_12 '\n",
    "path = os.path.join(Path.cwd().parent.parent, 'Contact Resistance', 'LSB_07', 'LCR', 'csv', mask + metal, resist)\n",
    "dir = os.listdir(path)\n",
    "\n",
    "#Check if folder for linear fits exists\n",
    "plot_folder = os.path.join(Path.cwd().parent.parent, 'Contact Resistance', 'LSB_07', 'LCR', 'Plots', mask + metal, resist)\n",
    "if 'Fit' not in os.listdir(plot_folder):\n",
    "    os.mkdir(os.path.join(plot_folder, 'Fit'))\n",
    "\n",
    "# Linear Fit\n",
    "def line(x, m, b):\n",
    "    return x * m + b\n",
    "gmodel = Model(line)\n",
    "param = gmodel.make_params()\n",
    "\n",
    "# Get dictionary of data DC, Idc and Vds. Plot data and linear fit.\n",
    "dict = {}\n",
    "for i in dir:\n",
    "    # Get data\n",
    "    data = pd.read_csv(os.path.join(path,i))\n",
    "    dict[i] = (data['DC'], data['Idc'], data['Vds'])\n",
    "\n",
    "    # Plot \n",
    "    fig, ax = plt.subplots(dpi = 400, facecolor = 'white')\n",
    "    ax.set_title(mask + metal + ' on LMO ' + sample + i[:-4])\n",
    "    ax.set_xlabel('Potential Vds (V)')\n",
    "    ax.set_ylabel('Current Ids (A)')\n",
    "    ax.scatter(dict[i][2], dict[i][1], s = 1, label = 'Measurement')\n",
    "    ax.legend(markerscale = 5)\n",
    "    if save == 'y':\n",
    "        plt.savefig(os.path.join(Path.cwd().parent.parent, 'Contact Resistance', 'LSB_07', 'LCR', 'Plots', mask + metal, resist, i[:-4]) + '.png', facecolor = 'white',  bbox_inches='tight')\n",
    "    plt.clf()\n",
    "\n",
    "    #Plot with linear fit\n",
    "    if f == 'y':\n",
    "        result = gmodel.fit(dict[i][1], param, m = 1, b = 1, x = dict[i][2])\n",
    "        slope = result.values['m']\n",
    "        resistance = 1/slope\n",
    "        r_square = 1 - result.residual.var() / np.var(dict[i][1])\n",
    "\n",
    "        fig, ax = plt.subplots(dpi = 400, facecolor = 'white')\n",
    "        ax.set_title(mask + metal + ' on LMO ' + sample + i[:-4])\n",
    "        ax.set_xlabel('Potential Vds (V)')\n",
    "        ax.set_ylabel('Current Ids (A)')\n",
    "        ax.scatter(dict[i][2], dict[i][1], s = 1, label = 'Measurement')\n",
    "        ax.plot(dict[i][2], result.best_fit, 'k', alpha = 0.5, label = 'Linear Fit')\n",
    "        ax.plot([],[], ' ', label = '{:.2f}'.format(resistance) + ' $\\Omega$')\n",
    "        ax.plot([],[], ' ', label = 'r$^2$ = ' + '{:.5f}'.format(r_square))\n",
    "        ax.legend(markerscale = 5)\n",
    "        if save == 'y':\n",
    "            plt.savefig(os.path.join(Path.cwd().parent.parent, 'Contact Resistance', 'LSB_07', 'LCR', 'Plots', mask + metal, resist, 'Fit', i[:-4]) + '_fit.png', facecolor = 'white',  bbox_inches='tight')\n",
    "    plt.clf()\n"
   ]
  },
  {
   "cell_type": "code",
   "execution_count": null,
   "metadata": {},
   "outputs": [],
   "source": [
    "##############COMPARE##############\n",
    "\n",
    "s_Pt = ['C4_P08']\n",
    "s_Al = ['P08_3']\n",
    "resist_Pt = 'LMO_IX'\n",
    "resist_Al = 'LMO_IX'\n",
    "plot_name = 'P08 Pt-Al IX only'\n",
    "paths_dict = {'Pt':[],\n",
    "              'Al':[]\n",
    "            }\n",
    "\n",
    "for i in s_Pt:\n",
    "    i += '.txt'\n",
    "    path = os.path.join(Path.cwd().parent.parent, 'Contact Resistance', 'LSB_07', 'LCR', 'csv', 'IDEA2 Pt', resist_Pt, i)\n",
    "    paths_dict['Pt'].append(path)\n",
    "for i in s_Al:\n",
    "    i += '.txt'\n",
    "    path = os.path.join(Path.cwd().parent.parent, 'Contact Resistance', 'LSB_07', 'LCR', 'csv', 'IDEA2 Al', resist_Al, i)\n",
    "    paths_dict['Al'].append(path)\n",
    "\n",
    "fig, ax = plt.subplots(dpi = 400, facecolor = 'white')\n",
    "ax.set_xlabel('Potential Vds (V)')\n",
    "ax.set_ylabel('Current Ids (A)')\n",
    "ax.set_title(plot_name)\n",
    "#mark = ['>', 'v', '*', 'x', 'D', 's']\n",
    "\n",
    "n = 0\n",
    "for i in paths_dict['Pt']:\n",
    "    data = pd.read_csv(i)\n",
    "    Vds , Ids = data['Vds'], data['Idc']\n",
    "    ax.scatter(Vds, Ids, s = 1, label = 'Pt')\n",
    "    n =+ 1\n",
    "\n",
    "for i in paths_dict['Al']:\n",
    "    data = pd.read_csv(i)\n",
    "    Vds , Ids = data['Vds'], data['Idc']\n",
    "    ax.scatter(Vds, Ids, s = 1, label = 'Al')\n",
    "\n",
    "ax.legend(markerscale = 5)\n",
    "\n",
    "\n",
    "\n",
    "plt.savefig(os.path.join(Path.cwd().parent.parent, 'Contact Resistance', 'LSB_07', 'LCR', 'Plots', plot_name) + '.png', facecolor = 'white',  bbox_inches='tight')"
   ]
  }
 ],
 "metadata": {
  "kernelspec": {
   "display_name": "Python 3.9.13 64-bit (microsoft store)",
   "language": "python",
   "name": "python3"
  },
  "language_info": {
   "codemirror_mode": {
    "name": "ipython",
    "version": 3
   },
   "file_extension": ".py",
   "mimetype": "text/x-python",
   "name": "python",
   "nbconvert_exporter": "python",
   "pygments_lexer": "ipython3",
   "version": "3.9.13"
  },
  "orig_nbformat": 4,
  "vscode": {
   "interpreter": {
    "hash": "07efca2f57058c8396287c06e71748f56c683db983d28c5eca359ebc2a15da43"
   }
  }
 },
 "nbformat": 4,
 "nbformat_minor": 2
}
